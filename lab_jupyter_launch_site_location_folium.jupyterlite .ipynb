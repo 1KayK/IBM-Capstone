{
  "metadata": {
    "kernelspec": {
      "name": "python",
      "display_name": "Python (Pyodide)",
      "language": "python"
    },
    "language_info": {
      "codemirror_mode": {
        "name": "python",
        "version": 3
      },
      "file_extension": ".py",
      "mimetype": "text/x-python",
      "name": "python",
      "nbconvert_exporter": "python",
      "pygments_lexer": "ipython3",
      "version": "3.8"
    }
  },
  "nbformat_minor": 4,
  "nbformat": 4,
  "cells": [
    {
      "cell_type": "markdown",
      "source": "<p style=\"text-align:center\">\n    <a href=\"https://skills.network/?utm_medium=Exinfluencer&utm_source=Exinfluencer&utm_content=000026UJ&utm_term=10006555&utm_id=NA-SkillsNetwork-Channel-SkillsNetworkCoursesIBMDS0321ENSkillsNetwork26802033-2022-01-01\" target=\"_blank\">\n    <img src=\"https://cf-courses-data.s3.us.cloud-object-storage.appdomain.cloud/assets/logos/SN_web_lightmode.png\" width=\"200\" alt=\"Skills Network Logo\"  />\n    </a>\n</p>\n",
      "metadata": {}
    },
    {
      "cell_type": "markdown",
      "source": "# **Launch Sites Locations Analysis with Folium**\n",
      "metadata": {}
    },
    {
      "cell_type": "markdown",
      "source": "Estimated time needed: **40** minutes\n",
      "metadata": {}
    },
    {
      "cell_type": "markdown",
      "source": "The launch success rate may depend on many factors such as payload mass, orbit type, and so on. It may also depend on the location and proximities of a launch site, i.e., the initial position of rocket trajectories. Finding an optimal location for building a launch site certainly involves many factors and hopefully we could discover some of the factors by analyzing the existing launch site locations.\n",
      "metadata": {}
    },
    {
      "cell_type": "markdown",
      "source": "In the previous exploratory data analysis labs, you have visualized the SpaceX launch dataset using `matplotlib` and `seaborn` and discovered some preliminary correlations between the launch site and success rates. In this lab, you will be performing more interactive visual analytics using `Folium`.\n",
      "metadata": {}
    },
    {
      "cell_type": "markdown",
      "source": "## Objectives\n",
      "metadata": {}
    },
    {
      "cell_type": "markdown",
      "source": "This lab contains the following tasks:\n\n*   **TASK 1:** Mark all launch sites on a map\n*   **TASK 2:** Mark the success/failed launches for each site on the map\n*   **TASK 3:** Calculate the distances between a launch site to its proximities\n\nAfter completed the above tasks, you should be able to find some geographical patterns about launch sites.\n",
      "metadata": {}
    },
    {
      "cell_type": "markdown",
      "source": "Let's first import required Python packages for this lab:\n",
      "metadata": {}
    },
    {
      "cell_type": "code",
      "source": "import piplite\nawait piplite.install(['folium'])\nawait piplite.install(['pandas'])",
      "metadata": {
        "trusted": true
      },
      "outputs": [],
      "execution_count": 23
    },
    {
      "cell_type": "code",
      "source": "import folium\nimport pandas as pd",
      "metadata": {
        "trusted": true
      },
      "outputs": [],
      "execution_count": 24
    },
    {
      "cell_type": "code",
      "source": "# Import folium MarkerCluster plugin\nfrom folium.plugins import MarkerCluster\n# Import folium MousePosition plugin\nfrom folium.plugins import MousePosition\n# Import folium DivIcon plugin\nfrom folium.features import DivIcon",
      "metadata": {
        "trusted": true
      },
      "outputs": [],
      "execution_count": 25
    },
    {
      "cell_type": "markdown",
      "source": "If you need to refresh your memory about folium, you may download and refer to this previous folium lab:\n",
      "metadata": {}
    },
    {
      "cell_type": "markdown",
      "source": "[Generating Maps with Python](https://cf-courses-data.s3.us.cloud-object-storage.appdomain.cloud/IBM-DS0321EN-SkillsNetwork/labs/module\\_3/DV0101EN-3-5-1-Generating-Maps-in-Python-py-v2.0.ipynb)\n",
      "metadata": {}
    },
    {
      "cell_type": "markdown",
      "source": "## Task 1: Mark all launch sites on a map\n",
      "metadata": {}
    },
    {
      "cell_type": "markdown",
      "source": "First, let's try to add each site's location on a map using site's latitude and longitude coordinates\n",
      "metadata": {}
    },
    {
      "cell_type": "markdown",
      "source": "The following dataset with the name `spacex_launch_geo.csv` is an augmented dataset with latitude and longitude added for each site.\n",
      "metadata": {}
    },
    {
      "cell_type": "code",
      "source": "# Download and read the `spacex_launch_geo.csv`\nfrom js import fetch\nimport io\n\nURL = 'https://cf-courses-data.s3.us.cloud-object-storage.appdomain.cloud/IBM-DS0321EN-SkillsNetwork/datasets/spacex_launch_geo.csv'\nresp = await fetch(URL)\nspacex_csv_file = io.BytesIO((await resp.arrayBuffer()).to_py())\nspacex_df=pd.read_csv(spacex_csv_file)",
      "metadata": {
        "trusted": true
      },
      "outputs": [],
      "execution_count": 26
    },
    {
      "cell_type": "markdown",
      "source": "Now, you can take a look at what are the coordinates for each site.\n",
      "metadata": {}
    },
    {
      "cell_type": "code",
      "source": "# Select relevant sub-columns: `Launch Site`, `Lat(Latitude)`, `Long(Longitude)`, `class`\nspacex_df = spacex_df[['Launch Site', 'Lat', 'Long', 'class']]\nlaunch_sites_df = spacex_df.groupby(['Launch Site'], as_index=False).first()\nlaunch_sites_df = launch_sites_df[['Launch Site', 'Lat', 'Long']]\nlaunch_sites_df",
      "metadata": {
        "trusted": true
      },
      "outputs": [
        {
          "execution_count": 27,
          "output_type": "execute_result",
          "data": {
            "text/plain": "    Launch Site        Lat        Long\n0   CCAFS LC-40  28.562302  -80.577356\n1  CCAFS SLC-40  28.563197  -80.576820\n2    KSC LC-39A  28.573255  -80.646895\n3   VAFB SLC-4E  34.632834 -120.610745",
            "text/html": "<div>\n<style scoped>\n    .dataframe tbody tr th:only-of-type {\n        vertical-align: middle;\n    }\n\n    .dataframe tbody tr th {\n        vertical-align: top;\n    }\n\n    .dataframe thead th {\n        text-align: right;\n    }\n</style>\n<table border=\"1\" class=\"dataframe\">\n  <thead>\n    <tr style=\"text-align: right;\">\n      <th></th>\n      <th>Launch Site</th>\n      <th>Lat</th>\n      <th>Long</th>\n    </tr>\n  </thead>\n  <tbody>\n    <tr>\n      <th>0</th>\n      <td>CCAFS LC-40</td>\n      <td>28.562302</td>\n      <td>-80.577356</td>\n    </tr>\n    <tr>\n      <th>1</th>\n      <td>CCAFS SLC-40</td>\n      <td>28.563197</td>\n      <td>-80.576820</td>\n    </tr>\n    <tr>\n      <th>2</th>\n      <td>KSC LC-39A</td>\n      <td>28.573255</td>\n      <td>-80.646895</td>\n    </tr>\n    <tr>\n      <th>3</th>\n      <td>VAFB SLC-4E</td>\n      <td>34.632834</td>\n      <td>-120.610745</td>\n    </tr>\n  </tbody>\n</table>\n</div>"
          },
          "metadata": {}
        }
      ],
      "execution_count": 27
    },
    {
      "cell_type": "markdown",
      "source": "Above coordinates are just plain numbers that can not give you any intuitive insights about where are those launch sites. If you are very good at geography, you can interpret those numbers directly in your mind. If not, that's fine too. Let's visualize those locations by pinning them on a map.\n",
      "metadata": {}
    },
    {
      "cell_type": "markdown",
      "source": "We first need to create a folium `Map` object, with an initial center location to be NASA Johnson Space Center at Houston, Texas.\n",
      "metadata": {}
    },
    {
      "cell_type": "code",
      "source": "# Start location is NASA Johnson Space Center\nnasa_coordinate = [29.559684888503615, -95.0830971930759]\nsite_map = folium.Map(location=nasa_coordinate, zoom_start=10)",
      "metadata": {
        "trusted": true
      },
      "outputs": [],
      "execution_count": 28
    },
    {
      "cell_type": "markdown",
      "source": "We could use `folium.Circle` to add a highlighted circle area with a text label on a specific coordinate. For example,\n",
      "metadata": {}
    },
    {
      "cell_type": "code",
      "source": "# Create a blue circle at NASA Johnson Space Center's coordinate with a popup label showing its name\ncircle = folium.Circle(nasa_coordinate, radius=1000, color='#d35400', fill=True).add_child(folium.Popup('NASA Johnson Space Center'))\n# Create a blue circle at NASA Johnson Space Center's coordinate with a icon showing its name\nmarker = folium.map.Marker(\n    nasa_coordinate,\n    # Create an icon as a text label\n    icon=DivIcon(\n        icon_size=(20,20),\n        icon_anchor=(0,0),\n        html='<div style=\"font-size: 12; color:#d35400;\"><b>%s</b></div>' % 'NASA JSC',\n        )\n    )\nsite_map.add_child(circle)\nsite_map.add_child(marker)",
      "metadata": {
        "trusted": true
      },
      "outputs": [
        {
          "execution_count": 29,
          "output_type": "execute_result",
          "data": {
            "text/plain": "<folium.folium.Map at 0x5c39a28>",
            "text/html": "<div style=\"width:100%;\"><div style=\"position:relative;width:100%;height:0;padding-bottom:60%;\"><span style=\"color:#565656\">Make this Notebook Trusted to load map: File -> Trust Notebook</span><iframe srcdoc=\"&lt;!DOCTYPE html&gt;\n&lt;html&gt;\n&lt;head&gt;\n    \n    &lt;meta http-equiv=&quot;content-type&quot; content=&quot;text/html; charset=UTF-8&quot; /&gt;\n    \n        &lt;script&gt;\n            L_NO_TOUCH = false;\n            L_DISABLE_3D = false;\n        &lt;/script&gt;\n    \n    &lt;style&gt;html, body {width: 100%;height: 100%;margin: 0;padding: 0;}&lt;/style&gt;\n    &lt;style&gt;#map {position:absolute;top:0;bottom:0;right:0;left:0;}&lt;/style&gt;\n    &lt;script src=&quot;https://cdn.jsdelivr.net/npm/leaflet@1.9.3/dist/leaflet.js&quot;&gt;&lt;/script&gt;\n    &lt;script src=&quot;https://code.jquery.com/jquery-3.7.1.min.js&quot;&gt;&lt;/script&gt;\n    &lt;script src=&quot;https://cdn.jsdelivr.net/npm/bootstrap@5.2.2/dist/js/bootstrap.bundle.min.js&quot;&gt;&lt;/script&gt;\n    &lt;script src=&quot;https://cdnjs.cloudflare.com/ajax/libs/Leaflet.awesome-markers/2.0.2/leaflet.awesome-markers.js&quot;&gt;&lt;/script&gt;\n    &lt;link rel=&quot;stylesheet&quot; href=&quot;https://cdn.jsdelivr.net/npm/leaflet@1.9.3/dist/leaflet.css&quot;/&gt;\n    &lt;link rel=&quot;stylesheet&quot; href=&quot;https://cdn.jsdelivr.net/npm/bootstrap@5.2.2/dist/css/bootstrap.min.css&quot;/&gt;\n    &lt;link rel=&quot;stylesheet&quot; href=&quot;https://netdna.bootstrapcdn.com/bootstrap/3.0.0/css/bootstrap.min.css&quot;/&gt;\n    &lt;link rel=&quot;stylesheet&quot; href=&quot;https://cdn.jsdelivr.net/npm/@fortawesome/fontawesome-free@6.2.0/css/all.min.css&quot;/&gt;\n    &lt;link rel=&quot;stylesheet&quot; href=&quot;https://cdnjs.cloudflare.com/ajax/libs/Leaflet.awesome-markers/2.0.2/leaflet.awesome-markers.css&quot;/&gt;\n    &lt;link rel=&quot;stylesheet&quot; href=&quot;https://cdn.jsdelivr.net/gh/python-visualization/folium/folium/templates/leaflet.awesome.rotate.min.css&quot;/&gt;\n    \n            &lt;meta name=&quot;viewport&quot; content=&quot;width=device-width,\n                initial-scale=1.0, maximum-scale=1.0, user-scalable=no&quot; /&gt;\n            &lt;style&gt;\n                #map_0295f7179f99d3d50d691a5baa352fa5 {\n                    position: relative;\n                    width: 100.0%;\n                    height: 100.0%;\n                    left: 0.0%;\n                    top: 0.0%;\n                }\n                .leaflet-container { font-size: 1rem; }\n            &lt;/style&gt;\n        \n&lt;/head&gt;\n&lt;body&gt;\n    \n    \n            &lt;div class=&quot;folium-map&quot; id=&quot;map_0295f7179f99d3d50d691a5baa352fa5&quot; &gt;&lt;/div&gt;\n        \n&lt;/body&gt;\n&lt;script&gt;\n    \n    \n            var map_0295f7179f99d3d50d691a5baa352fa5 = L.map(\n                &quot;map_0295f7179f99d3d50d691a5baa352fa5&quot;,\n                {\n                    center: [29.559684888503615, -95.0830971930759],\n                    crs: L.CRS.EPSG3857,\n                    zoom: 10,\n                    zoomControl: true,\n                    preferCanvas: false,\n                }\n            );\n\n            \n\n        \n    \n            var tile_layer_765868d8b3deae943dfd5ac486c2a432 = L.tileLayer(\n                &quot;https://tile.openstreetmap.org/{z}/{x}/{y}.png&quot;,\n                {&quot;attribution&quot;: &quot;\\u0026copy; \\u003ca href=\\&quot;https://www.openstreetmap.org/copyright\\&quot;\\u003eOpenStreetMap\\u003c/a\\u003e contributors&quot;, &quot;detectRetina&quot;: false, &quot;maxNativeZoom&quot;: 19, &quot;maxZoom&quot;: 19, &quot;minZoom&quot;: 0, &quot;noWrap&quot;: false, &quot;opacity&quot;: 1, &quot;subdomains&quot;: &quot;abc&quot;, &quot;tms&quot;: false}\n            );\n        \n    \n            tile_layer_765868d8b3deae943dfd5ac486c2a432.addTo(map_0295f7179f99d3d50d691a5baa352fa5);\n        \n    \n            var circle_07fb746d34358efdc4d9a03b5c358654 = L.circle(\n                [29.559684888503615, -95.0830971930759],\n                {&quot;bubblingMouseEvents&quot;: true, &quot;color&quot;: &quot;#d35400&quot;, &quot;dashArray&quot;: null, &quot;dashOffset&quot;: null, &quot;fill&quot;: true, &quot;fillColor&quot;: &quot;#d35400&quot;, &quot;fillOpacity&quot;: 0.2, &quot;fillRule&quot;: &quot;evenodd&quot;, &quot;lineCap&quot;: &quot;round&quot;, &quot;lineJoin&quot;: &quot;round&quot;, &quot;opacity&quot;: 1.0, &quot;radius&quot;: 1000, &quot;stroke&quot;: true, &quot;weight&quot;: 3}\n            ).addTo(map_0295f7179f99d3d50d691a5baa352fa5);\n        \n    \n        var popup_5f1e422b960e78e71d0a734d735373c4 = L.popup({&quot;maxWidth&quot;: &quot;100%&quot;});\n\n        \n            \n                var html_957b7b62062fbb3545b0246c8f8e82df = $(`&lt;div id=&quot;html_957b7b62062fbb3545b0246c8f8e82df&quot; style=&quot;width: 100.0%; height: 100.0%;&quot;&gt;NASA Johnson Space Center&lt;/div&gt;`)[0];\n                popup_5f1e422b960e78e71d0a734d735373c4.setContent(html_957b7b62062fbb3545b0246c8f8e82df);\n            \n        \n\n        circle_07fb746d34358efdc4d9a03b5c358654.bindPopup(popup_5f1e422b960e78e71d0a734d735373c4)\n        ;\n\n        \n    \n    \n            var marker_1c98afc44a19ba0ab312b4ca9ec235d6 = L.marker(\n                [29.559684888503615, -95.0830971930759],\n                {}\n            ).addTo(map_0295f7179f99d3d50d691a5baa352fa5);\n        \n    \n            var div_icon_ffba4ed11629d7c80e578107742c4b59 = L.divIcon({&quot;className&quot;: &quot;empty&quot;, &quot;html&quot;: &quot;\\u003cdiv style=\\&quot;font-size: 12; color:#d35400;\\&quot;\\u003e\\u003cb\\u003eNASA JSC\\u003c/b\\u003e\\u003c/div\\u003e&quot;, &quot;iconAnchor&quot;: [0, 0], &quot;iconSize&quot;: [20, 20]});\n            marker_1c98afc44a19ba0ab312b4ca9ec235d6.setIcon(div_icon_ffba4ed11629d7c80e578107742c4b59);\n        \n&lt;/script&gt;\n&lt;/html&gt;\" style=\"position:absolute;width:100%;height:100%;left:0;top:0;border:none !important;\" allowfullscreen webkitallowfullscreen mozallowfullscreen></iframe></div></div>"
          },
          "metadata": {}
        }
      ],
      "execution_count": 29
    },
    {
      "cell_type": "markdown",
      "source": "and you should find a small yellow circle near the city of Houston and you can zoom-in to see a larger circle.\n",
      "metadata": {}
    },
    {
      "cell_type": "markdown",
      "source": "Now, let's add a circle for each launch site in data frame `launch_sites`\n",
      "metadata": {}
    },
    {
      "cell_type": "markdown",
      "source": "*TODO:*  Create and add `folium.Circle` and `folium.Marker` for each launch site on the site map\n",
      "metadata": {}
    },
    {
      "cell_type": "markdown",
      "source": "An example of folium.Circle:\n",
      "metadata": {}
    },
    {
      "cell_type": "markdown",
      "source": "`folium.Circle(coordinate, radius=1000, color='#000000', fill=True).add_child(folium.Popup(...))`\n",
      "metadata": {}
    },
    {
      "cell_type": "markdown",
      "source": "An example of folium.Marker:\n",
      "metadata": {}
    },
    {
      "cell_type": "markdown",
      "source": "`folium.map.Marker(coordinate, icon=DivIcon(icon_size=(20,20),icon_anchor=(0,0), html='<div style=\"font-size: 12; color:#d35400;\"><b>%s</b></div>' % 'label', ))`\n",
      "metadata": {}
    },
    {
      "cell_type": "markdown",
      "source": "The generated map with marked launch sites should look similar to the following:\n",
      "metadata": {}
    },
    {
      "cell_type": "markdown",
      "source": "<center>\n    <img src=\"https://cf-courses-data.s3.us.cloud-object-storage.appdomain.cloud/IBM-DS0321EN-SkillsNetwork/labs/module_3/images/launch_site_markers.png\">\n</center>\n",
      "metadata": {}
    },
    {
      "cell_type": "code",
      "source": "# Initial the map\nsite_map = folium.Map(location=nasa_coordinate, zoom_start=5)\n# For each launch site, add a Circle object based on its coordinate (Lat, Long) values. In addition, add Launch site name as a popup label\nfor index, row in launch_sites_df.iterrows():\n    coordinate = [row['Lat'], row['Long']]\n    folium.Circle(coordinate, radius=1000, color='#000000', fill=True).add_child(folium.Popup(row['Launch Site'])).add_to(site_map)\n    folium.map.Marker(coordinate, icon=DivIcon(icon_size=(20,20),icon_anchor=(0,0), html='<div style=\"font-size: 12; color:#d35400;\"><b>%s</b></div>' % row['Launch Site'], )).add_to(site_map)\nsite_map",
      "metadata": {
        "trusted": true
      },
      "outputs": [
        {
          "execution_count": 30,
          "output_type": "execute_result",
          "data": {
            "text/plain": "<folium.folium.Map at 0x5c18630>",
            "text/html": "<div style=\"width:100%;\"><div style=\"position:relative;width:100%;height:0;padding-bottom:60%;\"><span style=\"color:#565656\">Make this Notebook Trusted to load map: File -> Trust Notebook</span><iframe srcdoc=\"&lt;!DOCTYPE html&gt;\n&lt;html&gt;\n&lt;head&gt;\n    \n    &lt;meta http-equiv=&quot;content-type&quot; content=&quot;text/html; charset=UTF-8&quot; /&gt;\n    \n        &lt;script&gt;\n            L_NO_TOUCH = false;\n            L_DISABLE_3D = false;\n        &lt;/script&gt;\n    \n    &lt;style&gt;html, body {width: 100%;height: 100%;margin: 0;padding: 0;}&lt;/style&gt;\n    &lt;style&gt;#map {position:absolute;top:0;bottom:0;right:0;left:0;}&lt;/style&gt;\n    &lt;script src=&quot;https://cdn.jsdelivr.net/npm/leaflet@1.9.3/dist/leaflet.js&quot;&gt;&lt;/script&gt;\n    &lt;script src=&quot;https://code.jquery.com/jquery-3.7.1.min.js&quot;&gt;&lt;/script&gt;\n    &lt;script src=&quot;https://cdn.jsdelivr.net/npm/bootstrap@5.2.2/dist/js/bootstrap.bundle.min.js&quot;&gt;&lt;/script&gt;\n    &lt;script src=&quot;https://cdnjs.cloudflare.com/ajax/libs/Leaflet.awesome-markers/2.0.2/leaflet.awesome-markers.js&quot;&gt;&lt;/script&gt;\n    &lt;link rel=&quot;stylesheet&quot; href=&quot;https://cdn.jsdelivr.net/npm/leaflet@1.9.3/dist/leaflet.css&quot;/&gt;\n    &lt;link rel=&quot;stylesheet&quot; href=&quot;https://cdn.jsdelivr.net/npm/bootstrap@5.2.2/dist/css/bootstrap.min.css&quot;/&gt;\n    &lt;link rel=&quot;stylesheet&quot; href=&quot;https://netdna.bootstrapcdn.com/bootstrap/3.0.0/css/bootstrap.min.css&quot;/&gt;\n    &lt;link rel=&quot;stylesheet&quot; href=&quot;https://cdn.jsdelivr.net/npm/@fortawesome/fontawesome-free@6.2.0/css/all.min.css&quot;/&gt;\n    &lt;link rel=&quot;stylesheet&quot; href=&quot;https://cdnjs.cloudflare.com/ajax/libs/Leaflet.awesome-markers/2.0.2/leaflet.awesome-markers.css&quot;/&gt;\n    &lt;link rel=&quot;stylesheet&quot; href=&quot;https://cdn.jsdelivr.net/gh/python-visualization/folium/folium/templates/leaflet.awesome.rotate.min.css&quot;/&gt;\n    \n            &lt;meta name=&quot;viewport&quot; content=&quot;width=device-width,\n                initial-scale=1.0, maximum-scale=1.0, user-scalable=no&quot; /&gt;\n            &lt;style&gt;\n                #map_25a36abbd64d06c3a4883102ece67787 {\n                    position: relative;\n                    width: 100.0%;\n                    height: 100.0%;\n                    left: 0.0%;\n                    top: 0.0%;\n                }\n                .leaflet-container { font-size: 1rem; }\n            &lt;/style&gt;\n        \n&lt;/head&gt;\n&lt;body&gt;\n    \n    \n            &lt;div class=&quot;folium-map&quot; id=&quot;map_25a36abbd64d06c3a4883102ece67787&quot; &gt;&lt;/div&gt;\n        \n&lt;/body&gt;\n&lt;script&gt;\n    \n    \n            var map_25a36abbd64d06c3a4883102ece67787 = L.map(\n                &quot;map_25a36abbd64d06c3a4883102ece67787&quot;,\n                {\n                    center: [29.559684888503615, -95.0830971930759],\n                    crs: L.CRS.EPSG3857,\n                    zoom: 5,\n                    zoomControl: true,\n                    preferCanvas: false,\n                }\n            );\n\n            \n\n        \n    \n            var tile_layer_972b21993b28dacb71f94852f3b05075 = L.tileLayer(\n                &quot;https://tile.openstreetmap.org/{z}/{x}/{y}.png&quot;,\n                {&quot;attribution&quot;: &quot;\\u0026copy; \\u003ca href=\\&quot;https://www.openstreetmap.org/copyright\\&quot;\\u003eOpenStreetMap\\u003c/a\\u003e contributors&quot;, &quot;detectRetina&quot;: false, &quot;maxNativeZoom&quot;: 19, &quot;maxZoom&quot;: 19, &quot;minZoom&quot;: 0, &quot;noWrap&quot;: false, &quot;opacity&quot;: 1, &quot;subdomains&quot;: &quot;abc&quot;, &quot;tms&quot;: false}\n            );\n        \n    \n            tile_layer_972b21993b28dacb71f94852f3b05075.addTo(map_25a36abbd64d06c3a4883102ece67787);\n        \n    \n            var circle_a5c772454f9535bbdcb9a3ac9cbf96cb = L.circle(\n                [28.56230197, -80.57735648],\n                {&quot;bubblingMouseEvents&quot;: true, &quot;color&quot;: &quot;#000000&quot;, &quot;dashArray&quot;: null, &quot;dashOffset&quot;: null, &quot;fill&quot;: true, &quot;fillColor&quot;: &quot;#000000&quot;, &quot;fillOpacity&quot;: 0.2, &quot;fillRule&quot;: &quot;evenodd&quot;, &quot;lineCap&quot;: &quot;round&quot;, &quot;lineJoin&quot;: &quot;round&quot;, &quot;opacity&quot;: 1.0, &quot;radius&quot;: 1000, &quot;stroke&quot;: true, &quot;weight&quot;: 3}\n            ).addTo(map_25a36abbd64d06c3a4883102ece67787);\n        \n    \n        var popup_03f8d8bb3a35cd427a4b8b1eb4ebb1cf = L.popup({&quot;maxWidth&quot;: &quot;100%&quot;});\n\n        \n            \n                var html_3e6ed3f78c5067b916b41845c56b20d6 = $(`&lt;div id=&quot;html_3e6ed3f78c5067b916b41845c56b20d6&quot; style=&quot;width: 100.0%; height: 100.0%;&quot;&gt;CCAFS LC-40&lt;/div&gt;`)[0];\n                popup_03f8d8bb3a35cd427a4b8b1eb4ebb1cf.setContent(html_3e6ed3f78c5067b916b41845c56b20d6);\n            \n        \n\n        circle_a5c772454f9535bbdcb9a3ac9cbf96cb.bindPopup(popup_03f8d8bb3a35cd427a4b8b1eb4ebb1cf)\n        ;\n\n        \n    \n    \n            var marker_d70eb97037df1dbc88d24a8ed24b4abf = L.marker(\n                [28.56230197, -80.57735648],\n                {}\n            ).addTo(map_25a36abbd64d06c3a4883102ece67787);\n        \n    \n            var div_icon_b8cc8be3421c796ab29d1a8e99b9c714 = L.divIcon({&quot;className&quot;: &quot;empty&quot;, &quot;html&quot;: &quot;\\u003cdiv style=\\&quot;font-size: 12; color:#d35400;\\&quot;\\u003e\\u003cb\\u003eCCAFS LC-40\\u003c/b\\u003e\\u003c/div\\u003e&quot;, &quot;iconAnchor&quot;: [0, 0], &quot;iconSize&quot;: [20, 20]});\n            marker_d70eb97037df1dbc88d24a8ed24b4abf.setIcon(div_icon_b8cc8be3421c796ab29d1a8e99b9c714);\n        \n    \n            var circle_ab6e74ee92c1d41f5ca01064d9f103a6 = L.circle(\n                [28.56319718, -80.57682003],\n                {&quot;bubblingMouseEvents&quot;: true, &quot;color&quot;: &quot;#000000&quot;, &quot;dashArray&quot;: null, &quot;dashOffset&quot;: null, &quot;fill&quot;: true, &quot;fillColor&quot;: &quot;#000000&quot;, &quot;fillOpacity&quot;: 0.2, &quot;fillRule&quot;: &quot;evenodd&quot;, &quot;lineCap&quot;: &quot;round&quot;, &quot;lineJoin&quot;: &quot;round&quot;, &quot;opacity&quot;: 1.0, &quot;radius&quot;: 1000, &quot;stroke&quot;: true, &quot;weight&quot;: 3}\n            ).addTo(map_25a36abbd64d06c3a4883102ece67787);\n        \n    \n        var popup_988b6e81a754053e532c04d05e9ff7c2 = L.popup({&quot;maxWidth&quot;: &quot;100%&quot;});\n\n        \n            \n                var html_70661f959fcbf30c7a55d199142461d5 = $(`&lt;div id=&quot;html_70661f959fcbf30c7a55d199142461d5&quot; style=&quot;width: 100.0%; height: 100.0%;&quot;&gt;CCAFS SLC-40&lt;/div&gt;`)[0];\n                popup_988b6e81a754053e532c04d05e9ff7c2.setContent(html_70661f959fcbf30c7a55d199142461d5);\n            \n        \n\n        circle_ab6e74ee92c1d41f5ca01064d9f103a6.bindPopup(popup_988b6e81a754053e532c04d05e9ff7c2)\n        ;\n\n        \n    \n    \n            var marker_841e53f0ff21eb324181cf31bd2d9e5d = L.marker(\n                [28.56319718, -80.57682003],\n                {}\n            ).addTo(map_25a36abbd64d06c3a4883102ece67787);\n        \n    \n            var div_icon_990e4f958bd344f93dd847a3f879d11d = L.divIcon({&quot;className&quot;: &quot;empty&quot;, &quot;html&quot;: &quot;\\u003cdiv style=\\&quot;font-size: 12; color:#d35400;\\&quot;\\u003e\\u003cb\\u003eCCAFS SLC-40\\u003c/b\\u003e\\u003c/div\\u003e&quot;, &quot;iconAnchor&quot;: [0, 0], &quot;iconSize&quot;: [20, 20]});\n            marker_841e53f0ff21eb324181cf31bd2d9e5d.setIcon(div_icon_990e4f958bd344f93dd847a3f879d11d);\n        \n    \n            var circle_0ae20139db6b4d7d24198c8c235ce946 = L.circle(\n                [28.57325457, -80.64689529],\n                {&quot;bubblingMouseEvents&quot;: true, &quot;color&quot;: &quot;#000000&quot;, &quot;dashArray&quot;: null, &quot;dashOffset&quot;: null, &quot;fill&quot;: true, &quot;fillColor&quot;: &quot;#000000&quot;, &quot;fillOpacity&quot;: 0.2, &quot;fillRule&quot;: &quot;evenodd&quot;, &quot;lineCap&quot;: &quot;round&quot;, &quot;lineJoin&quot;: &quot;round&quot;, &quot;opacity&quot;: 1.0, &quot;radius&quot;: 1000, &quot;stroke&quot;: true, &quot;weight&quot;: 3}\n            ).addTo(map_25a36abbd64d06c3a4883102ece67787);\n        \n    \n        var popup_c1864338e1a475a13d87451c55d89d72 = L.popup({&quot;maxWidth&quot;: &quot;100%&quot;});\n\n        \n            \n                var html_5ea89fd40891e3585c5cea240794f51f = $(`&lt;div id=&quot;html_5ea89fd40891e3585c5cea240794f51f&quot; style=&quot;width: 100.0%; height: 100.0%;&quot;&gt;KSC LC-39A&lt;/div&gt;`)[0];\n                popup_c1864338e1a475a13d87451c55d89d72.setContent(html_5ea89fd40891e3585c5cea240794f51f);\n            \n        \n\n        circle_0ae20139db6b4d7d24198c8c235ce946.bindPopup(popup_c1864338e1a475a13d87451c55d89d72)\n        ;\n\n        \n    \n    \n            var marker_b56ec19c7569e21a456b42e31925b99c = L.marker(\n                [28.57325457, -80.64689529],\n                {}\n            ).addTo(map_25a36abbd64d06c3a4883102ece67787);\n        \n    \n            var div_icon_6ea2ecdb07e2f0acd84d72bf77543d45 = L.divIcon({&quot;className&quot;: &quot;empty&quot;, &quot;html&quot;: &quot;\\u003cdiv style=\\&quot;font-size: 12; color:#d35400;\\&quot;\\u003e\\u003cb\\u003eKSC LC-39A\\u003c/b\\u003e\\u003c/div\\u003e&quot;, &quot;iconAnchor&quot;: [0, 0], &quot;iconSize&quot;: [20, 20]});\n            marker_b56ec19c7569e21a456b42e31925b99c.setIcon(div_icon_6ea2ecdb07e2f0acd84d72bf77543d45);\n        \n    \n            var circle_593cb2a77fcd48cf9cb5d172da9dfe89 = L.circle(\n                [34.63283416, -120.6107455],\n                {&quot;bubblingMouseEvents&quot;: true, &quot;color&quot;: &quot;#000000&quot;, &quot;dashArray&quot;: null, &quot;dashOffset&quot;: null, &quot;fill&quot;: true, &quot;fillColor&quot;: &quot;#000000&quot;, &quot;fillOpacity&quot;: 0.2, &quot;fillRule&quot;: &quot;evenodd&quot;, &quot;lineCap&quot;: &quot;round&quot;, &quot;lineJoin&quot;: &quot;round&quot;, &quot;opacity&quot;: 1.0, &quot;radius&quot;: 1000, &quot;stroke&quot;: true, &quot;weight&quot;: 3}\n            ).addTo(map_25a36abbd64d06c3a4883102ece67787);\n        \n    \n        var popup_e342cd23fa5596552351509ae3a8876c = L.popup({&quot;maxWidth&quot;: &quot;100%&quot;});\n\n        \n            \n                var html_b31acfcdb69cbd3595b6ede9fc315789 = $(`&lt;div id=&quot;html_b31acfcdb69cbd3595b6ede9fc315789&quot; style=&quot;width: 100.0%; height: 100.0%;&quot;&gt;VAFB SLC-4E&lt;/div&gt;`)[0];\n                popup_e342cd23fa5596552351509ae3a8876c.setContent(html_b31acfcdb69cbd3595b6ede9fc315789);\n            \n        \n\n        circle_593cb2a77fcd48cf9cb5d172da9dfe89.bindPopup(popup_e342cd23fa5596552351509ae3a8876c)\n        ;\n\n        \n    \n    \n            var marker_7332456aca8ee856cfbbed86b70e71e5 = L.marker(\n                [34.63283416, -120.6107455],\n                {}\n            ).addTo(map_25a36abbd64d06c3a4883102ece67787);\n        \n    \n            var div_icon_de27aaa66263007ee62d566c27bdf8e8 = L.divIcon({&quot;className&quot;: &quot;empty&quot;, &quot;html&quot;: &quot;\\u003cdiv style=\\&quot;font-size: 12; color:#d35400;\\&quot;\\u003e\\u003cb\\u003eVAFB SLC-4E\\u003c/b\\u003e\\u003c/div\\u003e&quot;, &quot;iconAnchor&quot;: [0, 0], &quot;iconSize&quot;: [20, 20]});\n            marker_7332456aca8ee856cfbbed86b70e71e5.setIcon(div_icon_de27aaa66263007ee62d566c27bdf8e8);\n        \n&lt;/script&gt;\n&lt;/html&gt;\" style=\"position:absolute;width:100%;height:100%;left:0;top:0;border:none !important;\" allowfullscreen webkitallowfullscreen mozallowfullscreen></iframe></div></div>"
          },
          "metadata": {}
        }
      ],
      "execution_count": 30
    },
    {
      "cell_type": "markdown",
      "source": "Now, you can explore the map by zoom-in/out the marked areas\n, and try to answer the following questions:\n\n*   Are all launch sites in proximity to the Equator line?\n*   Are all launch sites in very close proximity to the coast?\n\nAlso please try to explain your findings.\n",
      "metadata": {}
    },
    {
      "cell_type": "markdown",
      "source": "# Task 2: Mark the success/failed launches for each site on the map\n",
      "metadata": {}
    },
    {
      "cell_type": "markdown",
      "source": "Next, let's try to enhance the map by adding the launch outcomes for each site, and see which sites have high success rates.\nRecall that data frame spacex_df has detailed launch records, and the `class` column indicates if this launch was successful or not\n",
      "metadata": {}
    },
    {
      "cell_type": "code",
      "source": "spacex_df.tail(10)",
      "metadata": {
        "trusted": true
      },
      "outputs": [
        {
          "execution_count": 31,
          "output_type": "execute_result",
          "data": {
            "text/plain": "     Launch Site        Lat       Long  class\n46    KSC LC-39A  28.573255 -80.646895      1\n47    KSC LC-39A  28.573255 -80.646895      1\n48    KSC LC-39A  28.573255 -80.646895      1\n49  CCAFS SLC-40  28.563197 -80.576820      1\n50  CCAFS SLC-40  28.563197 -80.576820      1\n51  CCAFS SLC-40  28.563197 -80.576820      0\n52  CCAFS SLC-40  28.563197 -80.576820      0\n53  CCAFS SLC-40  28.563197 -80.576820      0\n54  CCAFS SLC-40  28.563197 -80.576820      1\n55  CCAFS SLC-40  28.563197 -80.576820      0",
            "text/html": "<div>\n<style scoped>\n    .dataframe tbody tr th:only-of-type {\n        vertical-align: middle;\n    }\n\n    .dataframe tbody tr th {\n        vertical-align: top;\n    }\n\n    .dataframe thead th {\n        text-align: right;\n    }\n</style>\n<table border=\"1\" class=\"dataframe\">\n  <thead>\n    <tr style=\"text-align: right;\">\n      <th></th>\n      <th>Launch Site</th>\n      <th>Lat</th>\n      <th>Long</th>\n      <th>class</th>\n    </tr>\n  </thead>\n  <tbody>\n    <tr>\n      <th>46</th>\n      <td>KSC LC-39A</td>\n      <td>28.573255</td>\n      <td>-80.646895</td>\n      <td>1</td>\n    </tr>\n    <tr>\n      <th>47</th>\n      <td>KSC LC-39A</td>\n      <td>28.573255</td>\n      <td>-80.646895</td>\n      <td>1</td>\n    </tr>\n    <tr>\n      <th>48</th>\n      <td>KSC LC-39A</td>\n      <td>28.573255</td>\n      <td>-80.646895</td>\n      <td>1</td>\n    </tr>\n    <tr>\n      <th>49</th>\n      <td>CCAFS SLC-40</td>\n      <td>28.563197</td>\n      <td>-80.576820</td>\n      <td>1</td>\n    </tr>\n    <tr>\n      <th>50</th>\n      <td>CCAFS SLC-40</td>\n      <td>28.563197</td>\n      <td>-80.576820</td>\n      <td>1</td>\n    </tr>\n    <tr>\n      <th>51</th>\n      <td>CCAFS SLC-40</td>\n      <td>28.563197</td>\n      <td>-80.576820</td>\n      <td>0</td>\n    </tr>\n    <tr>\n      <th>52</th>\n      <td>CCAFS SLC-40</td>\n      <td>28.563197</td>\n      <td>-80.576820</td>\n      <td>0</td>\n    </tr>\n    <tr>\n      <th>53</th>\n      <td>CCAFS SLC-40</td>\n      <td>28.563197</td>\n      <td>-80.576820</td>\n      <td>0</td>\n    </tr>\n    <tr>\n      <th>54</th>\n      <td>CCAFS SLC-40</td>\n      <td>28.563197</td>\n      <td>-80.576820</td>\n      <td>1</td>\n    </tr>\n    <tr>\n      <th>55</th>\n      <td>CCAFS SLC-40</td>\n      <td>28.563197</td>\n      <td>-80.576820</td>\n      <td>0</td>\n    </tr>\n  </tbody>\n</table>\n</div>"
          },
          "metadata": {}
        }
      ],
      "execution_count": 31
    },
    {
      "cell_type": "markdown",
      "source": "Next, let's create markers for all launch records.\nIf a launch was successful `(class=1)`, then we use a green marker and if a launch was failed, we use a red marker `(class=0)`\n",
      "metadata": {}
    },
    {
      "cell_type": "markdown",
      "source": "Note that a launch only happens in one of the four launch sites, which means many launch records will have the exact same coordinate. Marker clusters can be a good way to simplify a map containing many markers having the same coordinate.\n",
      "metadata": {}
    },
    {
      "cell_type": "markdown",
      "source": "Let's first create a `MarkerCluster` object\n",
      "metadata": {}
    },
    {
      "cell_type": "code",
      "source": "marker_cluster = MarkerCluster()\n",
      "metadata": {
        "trusted": true
      },
      "outputs": [],
      "execution_count": 32
    },
    {
      "cell_type": "markdown",
      "source": "*TODO:* Create a new column in `launch_sites` dataframe called `marker_color` to store the marker colors based on the `class` value\n",
      "metadata": {}
    },
    {
      "cell_type": "code",
      "source": "\n# Apply a function to check the value of `class` column\n# If class=1, marker_color value will be green\n# If class=0, marker_color value will be red\n\ndef map_class_to_color(value):\n    return 'green' if value == 1 else 'red'\n\nspacex_df[\"marker_color\"] = spacex_df[\"class\"].apply(map_class_to_color)",
      "metadata": {
        "trusted": true
      },
      "outputs": [],
      "execution_count": 33
    },
    {
      "cell_type": "code",
      "source": "spacex_df.head()",
      "metadata": {
        "trusted": true
      },
      "outputs": [
        {
          "execution_count": 34,
          "output_type": "execute_result",
          "data": {
            "text/plain": "   Launch Site        Lat       Long  class marker_color\n0  CCAFS LC-40  28.562302 -80.577356      0          red\n1  CCAFS LC-40  28.562302 -80.577356      0          red\n2  CCAFS LC-40  28.562302 -80.577356      0          red\n3  CCAFS LC-40  28.562302 -80.577356      0          red\n4  CCAFS LC-40  28.562302 -80.577356      0          red",
            "text/html": "<div>\n<style scoped>\n    .dataframe tbody tr th:only-of-type {\n        vertical-align: middle;\n    }\n\n    .dataframe tbody tr th {\n        vertical-align: top;\n    }\n\n    .dataframe thead th {\n        text-align: right;\n    }\n</style>\n<table border=\"1\" class=\"dataframe\">\n  <thead>\n    <tr style=\"text-align: right;\">\n      <th></th>\n      <th>Launch Site</th>\n      <th>Lat</th>\n      <th>Long</th>\n      <th>class</th>\n      <th>marker_color</th>\n    </tr>\n  </thead>\n  <tbody>\n    <tr>\n      <th>0</th>\n      <td>CCAFS LC-40</td>\n      <td>28.562302</td>\n      <td>-80.577356</td>\n      <td>0</td>\n      <td>red</td>\n    </tr>\n    <tr>\n      <th>1</th>\n      <td>CCAFS LC-40</td>\n      <td>28.562302</td>\n      <td>-80.577356</td>\n      <td>0</td>\n      <td>red</td>\n    </tr>\n    <tr>\n      <th>2</th>\n      <td>CCAFS LC-40</td>\n      <td>28.562302</td>\n      <td>-80.577356</td>\n      <td>0</td>\n      <td>red</td>\n    </tr>\n    <tr>\n      <th>3</th>\n      <td>CCAFS LC-40</td>\n      <td>28.562302</td>\n      <td>-80.577356</td>\n      <td>0</td>\n      <td>red</td>\n    </tr>\n    <tr>\n      <th>4</th>\n      <td>CCAFS LC-40</td>\n      <td>28.562302</td>\n      <td>-80.577356</td>\n      <td>0</td>\n      <td>red</td>\n    </tr>\n  </tbody>\n</table>\n</div>"
          },
          "metadata": {}
        }
      ],
      "execution_count": 34
    },
    {
      "cell_type": "markdown",
      "source": "*TODO:* For each launch result in `spacex_df` data frame, add a `folium.Marker` to `marker_cluster`\n",
      "metadata": {}
    },
    {
      "cell_type": "raw",
      "source": "# Add marker_cluster to current site_map\nsite_map.add_child(marker_cluster)\n\n# for each row in spacex_df data frame\n# create a Marker object with its coordinate\n# and customize the Marker's icon property to indicate if this launch was successed or failed, \n# e.g., icon=folium.Icon(color='white', icon_color=row['marker_color']\nfor index, record in spacex_df.iterrows():\n    # TODO: Create and add a Marker cluster to the site map\n    # marker = folium.Marker(...)\n    marker = folium.Marker(location=[row['Lat'], row['Long']])\n    icon = folium.Icon(color='white', icon_color=row['marker_color'])\n   \n\nsite_map",
      "metadata": {}
    },
    {
      "cell_type": "code",
      "source": "site_map.add_child(marker_cluster)\n\n# Print column names for troubleshooting\nprint(spacex_df.columns)\n\n# Iterate through each row in spacex_df\nfor index, row in spacex_df.iterrows():\n    # Create a Marker object with its coordinate\n    marker = folium.Marker(location=[row['Lat'], row['Long']])\n    \n    # Print the row to inspect its content\n    #print(row)\n\n    # Customize the Marker's icon property based on 'class'\n    icon_color = 'green' if row['class'] == 1 else 'red'\n    marker.icon = folium.Icon(color='white', icon_color=icon_color)\n\n    # Add the Marker to the MarkerCluster\n    marker_cluster.add_child(marker)\n\n# Display the site_map\nsite_map",
      "metadata": {
        "trusted": true
      },
      "outputs": [
        {
          "name": "stdout",
          "text": "Index(['Launch Site', 'Lat', 'Long', 'class', 'marker_color'], dtype='object')\n",
          "output_type": "stream"
        },
        {
          "execution_count": 35,
          "output_type": "execute_result",
          "data": {
            "text/plain": "<folium.folium.Map at 0x5c18630>",
            "text/html": "<div style=\"width:100%;\"><div style=\"position:relative;width:100%;height:0;padding-bottom:60%;\"><span style=\"color:#565656\">Make this Notebook Trusted to load map: File -> Trust Notebook</span><iframe srcdoc=\"&lt;!DOCTYPE html&gt;\n&lt;html&gt;\n&lt;head&gt;\n    \n    &lt;meta http-equiv=&quot;content-type&quot; content=&quot;text/html; charset=UTF-8&quot; /&gt;\n    \n        &lt;script&gt;\n            L_NO_TOUCH = false;\n            L_DISABLE_3D = false;\n        &lt;/script&gt;\n    \n    &lt;style&gt;html, body {width: 100%;height: 100%;margin: 0;padding: 0;}&lt;/style&gt;\n    &lt;style&gt;#map {position:absolute;top:0;bottom:0;right:0;left:0;}&lt;/style&gt;\n    &lt;script src=&quot;https://cdn.jsdelivr.net/npm/leaflet@1.9.3/dist/leaflet.js&quot;&gt;&lt;/script&gt;\n    &lt;script src=&quot;https://code.jquery.com/jquery-3.7.1.min.js&quot;&gt;&lt;/script&gt;\n    &lt;script src=&quot;https://cdn.jsdelivr.net/npm/bootstrap@5.2.2/dist/js/bootstrap.bundle.min.js&quot;&gt;&lt;/script&gt;\n    &lt;script src=&quot;https://cdnjs.cloudflare.com/ajax/libs/Leaflet.awesome-markers/2.0.2/leaflet.awesome-markers.js&quot;&gt;&lt;/script&gt;\n    &lt;link rel=&quot;stylesheet&quot; href=&quot;https://cdn.jsdelivr.net/npm/leaflet@1.9.3/dist/leaflet.css&quot;/&gt;\n    &lt;link rel=&quot;stylesheet&quot; href=&quot;https://cdn.jsdelivr.net/npm/bootstrap@5.2.2/dist/css/bootstrap.min.css&quot;/&gt;\n    &lt;link rel=&quot;stylesheet&quot; href=&quot;https://netdna.bootstrapcdn.com/bootstrap/3.0.0/css/bootstrap.min.css&quot;/&gt;\n    &lt;link rel=&quot;stylesheet&quot; href=&quot;https://cdn.jsdelivr.net/npm/@fortawesome/fontawesome-free@6.2.0/css/all.min.css&quot;/&gt;\n    &lt;link rel=&quot;stylesheet&quot; href=&quot;https://cdnjs.cloudflare.com/ajax/libs/Leaflet.awesome-markers/2.0.2/leaflet.awesome-markers.css&quot;/&gt;\n    &lt;link rel=&quot;stylesheet&quot; href=&quot;https://cdn.jsdelivr.net/gh/python-visualization/folium/folium/templates/leaflet.awesome.rotate.min.css&quot;/&gt;\n    \n            &lt;meta name=&quot;viewport&quot; content=&quot;width=device-width,\n                initial-scale=1.0, maximum-scale=1.0, user-scalable=no&quot; /&gt;\n            &lt;style&gt;\n                #map_25a36abbd64d06c3a4883102ece67787 {\n                    position: relative;\n                    width: 100.0%;\n                    height: 100.0%;\n                    left: 0.0%;\n                    top: 0.0%;\n                }\n                .leaflet-container { font-size: 1rem; }\n            &lt;/style&gt;\n        \n    &lt;script src=&quot;https://cdnjs.cloudflare.com/ajax/libs/leaflet.markercluster/1.1.0/leaflet.markercluster.js&quot;&gt;&lt;/script&gt;\n    &lt;link rel=&quot;stylesheet&quot; href=&quot;https://cdnjs.cloudflare.com/ajax/libs/leaflet.markercluster/1.1.0/MarkerCluster.css&quot;/&gt;\n    &lt;link rel=&quot;stylesheet&quot; href=&quot;https://cdnjs.cloudflare.com/ajax/libs/leaflet.markercluster/1.1.0/MarkerCluster.Default.css&quot;/&gt;\n&lt;/head&gt;\n&lt;body&gt;\n    \n    \n            &lt;div class=&quot;folium-map&quot; id=&quot;map_25a36abbd64d06c3a4883102ece67787&quot; &gt;&lt;/div&gt;\n        \n&lt;/body&gt;\n&lt;script&gt;\n    \n    \n            var map_25a36abbd64d06c3a4883102ece67787 = L.map(\n                &quot;map_25a36abbd64d06c3a4883102ece67787&quot;,\n                {\n                    center: [29.559684888503615, -95.0830971930759],\n                    crs: L.CRS.EPSG3857,\n                    zoom: 5,\n                    zoomControl: true,\n                    preferCanvas: false,\n                }\n            );\n\n            \n\n        \n    \n            var tile_layer_972b21993b28dacb71f94852f3b05075 = L.tileLayer(\n                &quot;https://tile.openstreetmap.org/{z}/{x}/{y}.png&quot;,\n                {&quot;attribution&quot;: &quot;\\u0026copy; \\u003ca href=\\&quot;https://www.openstreetmap.org/copyright\\&quot;\\u003eOpenStreetMap\\u003c/a\\u003e contributors&quot;, &quot;detectRetina&quot;: false, &quot;maxNativeZoom&quot;: 19, &quot;maxZoom&quot;: 19, &quot;minZoom&quot;: 0, &quot;noWrap&quot;: false, &quot;opacity&quot;: 1, &quot;subdomains&quot;: &quot;abc&quot;, &quot;tms&quot;: false}\n            );\n        \n    \n            tile_layer_972b21993b28dacb71f94852f3b05075.addTo(map_25a36abbd64d06c3a4883102ece67787);\n        \n    \n            var circle_a5c772454f9535bbdcb9a3ac9cbf96cb = L.circle(\n                [28.56230197, -80.57735648],\n                {&quot;bubblingMouseEvents&quot;: true, &quot;color&quot;: &quot;#000000&quot;, &quot;dashArray&quot;: null, &quot;dashOffset&quot;: null, &quot;fill&quot;: true, &quot;fillColor&quot;: &quot;#000000&quot;, &quot;fillOpacity&quot;: 0.2, &quot;fillRule&quot;: &quot;evenodd&quot;, &quot;lineCap&quot;: &quot;round&quot;, &quot;lineJoin&quot;: &quot;round&quot;, &quot;opacity&quot;: 1.0, &quot;radius&quot;: 1000, &quot;stroke&quot;: true, &quot;weight&quot;: 3}\n            ).addTo(map_25a36abbd64d06c3a4883102ece67787);\n        \n    \n        var popup_03f8d8bb3a35cd427a4b8b1eb4ebb1cf = L.popup({&quot;maxWidth&quot;: &quot;100%&quot;});\n\n        \n            \n                var html_3e6ed3f78c5067b916b41845c56b20d6 = $(`&lt;div id=&quot;html_3e6ed3f78c5067b916b41845c56b20d6&quot; style=&quot;width: 100.0%; height: 100.0%;&quot;&gt;CCAFS LC-40&lt;/div&gt;`)[0];\n                popup_03f8d8bb3a35cd427a4b8b1eb4ebb1cf.setContent(html_3e6ed3f78c5067b916b41845c56b20d6);\n            \n        \n\n        circle_a5c772454f9535bbdcb9a3ac9cbf96cb.bindPopup(popup_03f8d8bb3a35cd427a4b8b1eb4ebb1cf)\n        ;\n\n        \n    \n    \n            var marker_d70eb97037df1dbc88d24a8ed24b4abf = L.marker(\n                [28.56230197, -80.57735648],\n                {}\n            ).addTo(map_25a36abbd64d06c3a4883102ece67787);\n        \n    \n            var div_icon_b8cc8be3421c796ab29d1a8e99b9c714 = L.divIcon({&quot;className&quot;: &quot;empty&quot;, &quot;html&quot;: &quot;\\u003cdiv style=\\&quot;font-size: 12; color:#d35400;\\&quot;\\u003e\\u003cb\\u003eCCAFS LC-40\\u003c/b\\u003e\\u003c/div\\u003e&quot;, &quot;iconAnchor&quot;: [0, 0], &quot;iconSize&quot;: [20, 20]});\n            marker_d70eb97037df1dbc88d24a8ed24b4abf.setIcon(div_icon_b8cc8be3421c796ab29d1a8e99b9c714);\n        \n    \n            var circle_ab6e74ee92c1d41f5ca01064d9f103a6 = L.circle(\n                [28.56319718, -80.57682003],\n                {&quot;bubblingMouseEvents&quot;: true, &quot;color&quot;: &quot;#000000&quot;, &quot;dashArray&quot;: null, &quot;dashOffset&quot;: null, &quot;fill&quot;: true, &quot;fillColor&quot;: &quot;#000000&quot;, &quot;fillOpacity&quot;: 0.2, &quot;fillRule&quot;: &quot;evenodd&quot;, &quot;lineCap&quot;: &quot;round&quot;, &quot;lineJoin&quot;: &quot;round&quot;, &quot;opacity&quot;: 1.0, &quot;radius&quot;: 1000, &quot;stroke&quot;: true, &quot;weight&quot;: 3}\n            ).addTo(map_25a36abbd64d06c3a4883102ece67787);\n        \n    \n        var popup_988b6e81a754053e532c04d05e9ff7c2 = L.popup({&quot;maxWidth&quot;: &quot;100%&quot;});\n\n        \n            \n                var html_70661f959fcbf30c7a55d199142461d5 = $(`&lt;div id=&quot;html_70661f959fcbf30c7a55d199142461d5&quot; style=&quot;width: 100.0%; height: 100.0%;&quot;&gt;CCAFS SLC-40&lt;/div&gt;`)[0];\n                popup_988b6e81a754053e532c04d05e9ff7c2.setContent(html_70661f959fcbf30c7a55d199142461d5);\n            \n        \n\n        circle_ab6e74ee92c1d41f5ca01064d9f103a6.bindPopup(popup_988b6e81a754053e532c04d05e9ff7c2)\n        ;\n\n        \n    \n    \n            var marker_841e53f0ff21eb324181cf31bd2d9e5d = L.marker(\n                [28.56319718, -80.57682003],\n                {}\n            ).addTo(map_25a36abbd64d06c3a4883102ece67787);\n        \n    \n            var div_icon_990e4f958bd344f93dd847a3f879d11d = L.divIcon({&quot;className&quot;: &quot;empty&quot;, &quot;html&quot;: &quot;\\u003cdiv style=\\&quot;font-size: 12; color:#d35400;\\&quot;\\u003e\\u003cb\\u003eCCAFS SLC-40\\u003c/b\\u003e\\u003c/div\\u003e&quot;, &quot;iconAnchor&quot;: [0, 0], &quot;iconSize&quot;: [20, 20]});\n            marker_841e53f0ff21eb324181cf31bd2d9e5d.setIcon(div_icon_990e4f958bd344f93dd847a3f879d11d);\n        \n    \n            var circle_0ae20139db6b4d7d24198c8c235ce946 = L.circle(\n                [28.57325457, -80.64689529],\n                {&quot;bubblingMouseEvents&quot;: true, &quot;color&quot;: &quot;#000000&quot;, &quot;dashArray&quot;: null, &quot;dashOffset&quot;: null, &quot;fill&quot;: true, &quot;fillColor&quot;: &quot;#000000&quot;, &quot;fillOpacity&quot;: 0.2, &quot;fillRule&quot;: &quot;evenodd&quot;, &quot;lineCap&quot;: &quot;round&quot;, &quot;lineJoin&quot;: &quot;round&quot;, &quot;opacity&quot;: 1.0, &quot;radius&quot;: 1000, &quot;stroke&quot;: true, &quot;weight&quot;: 3}\n            ).addTo(map_25a36abbd64d06c3a4883102ece67787);\n        \n    \n        var popup_c1864338e1a475a13d87451c55d89d72 = L.popup({&quot;maxWidth&quot;: &quot;100%&quot;});\n\n        \n            \n                var html_5ea89fd40891e3585c5cea240794f51f = $(`&lt;div id=&quot;html_5ea89fd40891e3585c5cea240794f51f&quot; style=&quot;width: 100.0%; height: 100.0%;&quot;&gt;KSC LC-39A&lt;/div&gt;`)[0];\n                popup_c1864338e1a475a13d87451c55d89d72.setContent(html_5ea89fd40891e3585c5cea240794f51f);\n            \n        \n\n        circle_0ae20139db6b4d7d24198c8c235ce946.bindPopup(popup_c1864338e1a475a13d87451c55d89d72)\n        ;\n\n        \n    \n    \n            var marker_b56ec19c7569e21a456b42e31925b99c = L.marker(\n                [28.57325457, -80.64689529],\n                {}\n            ).addTo(map_25a36abbd64d06c3a4883102ece67787);\n        \n    \n            var div_icon_6ea2ecdb07e2f0acd84d72bf77543d45 = L.divIcon({&quot;className&quot;: &quot;empty&quot;, &quot;html&quot;: &quot;\\u003cdiv style=\\&quot;font-size: 12; color:#d35400;\\&quot;\\u003e\\u003cb\\u003eKSC LC-39A\\u003c/b\\u003e\\u003c/div\\u003e&quot;, &quot;iconAnchor&quot;: [0, 0], &quot;iconSize&quot;: [20, 20]});\n            marker_b56ec19c7569e21a456b42e31925b99c.setIcon(div_icon_6ea2ecdb07e2f0acd84d72bf77543d45);\n        \n    \n            var circle_593cb2a77fcd48cf9cb5d172da9dfe89 = L.circle(\n                [34.63283416, -120.6107455],\n                {&quot;bubblingMouseEvents&quot;: true, &quot;color&quot;: &quot;#000000&quot;, &quot;dashArray&quot;: null, &quot;dashOffset&quot;: null, &quot;fill&quot;: true, &quot;fillColor&quot;: &quot;#000000&quot;, &quot;fillOpacity&quot;: 0.2, &quot;fillRule&quot;: &quot;evenodd&quot;, &quot;lineCap&quot;: &quot;round&quot;, &quot;lineJoin&quot;: &quot;round&quot;, &quot;opacity&quot;: 1.0, &quot;radius&quot;: 1000, &quot;stroke&quot;: true, &quot;weight&quot;: 3}\n            ).addTo(map_25a36abbd64d06c3a4883102ece67787);\n        \n    \n        var popup_e342cd23fa5596552351509ae3a8876c = L.popup({&quot;maxWidth&quot;: &quot;100%&quot;});\n\n        \n            \n                var html_b31acfcdb69cbd3595b6ede9fc315789 = $(`&lt;div id=&quot;html_b31acfcdb69cbd3595b6ede9fc315789&quot; style=&quot;width: 100.0%; height: 100.0%;&quot;&gt;VAFB SLC-4E&lt;/div&gt;`)[0];\n                popup_e342cd23fa5596552351509ae3a8876c.setContent(html_b31acfcdb69cbd3595b6ede9fc315789);\n            \n        \n\n        circle_593cb2a77fcd48cf9cb5d172da9dfe89.bindPopup(popup_e342cd23fa5596552351509ae3a8876c)\n        ;\n\n        \n    \n    \n            var marker_7332456aca8ee856cfbbed86b70e71e5 = L.marker(\n                [34.63283416, -120.6107455],\n                {}\n            ).addTo(map_25a36abbd64d06c3a4883102ece67787);\n        \n    \n            var div_icon_de27aaa66263007ee62d566c27bdf8e8 = L.divIcon({&quot;className&quot;: &quot;empty&quot;, &quot;html&quot;: &quot;\\u003cdiv style=\\&quot;font-size: 12; color:#d35400;\\&quot;\\u003e\\u003cb\\u003eVAFB SLC-4E\\u003c/b\\u003e\\u003c/div\\u003e&quot;, &quot;iconAnchor&quot;: [0, 0], &quot;iconSize&quot;: [20, 20]});\n            marker_7332456aca8ee856cfbbed86b70e71e5.setIcon(div_icon_de27aaa66263007ee62d566c27bdf8e8);\n        \n    \n            tile_layer_972b21993b28dacb71f94852f3b05075.addTo(map_25a36abbd64d06c3a4883102ece67787);\n        \n    \n            var marker_cluster_59d93cad82a9c30d23774f7afdb16fa6 = L.markerClusterGroup(\n                {}\n            );\n        \n    \n            var marker_350d4f95e34b4ca5b0f9866c157feb00 = L.marker(\n                [28.56230197, -80.57735648],\n                {}\n            ).addTo(marker_cluster_59d93cad82a9c30d23774f7afdb16fa6);\n        \n    \n            var marker_aca7822ec9e922c038fa62b4026f7664 = L.marker(\n                [28.56230197, -80.57735648],\n                {}\n            ).addTo(marker_cluster_59d93cad82a9c30d23774f7afdb16fa6);\n        \n    \n            var marker_a36922bfc5d243ca225d0e851f49f678 = L.marker(\n                [28.56230197, -80.57735648],\n                {}\n            ).addTo(marker_cluster_59d93cad82a9c30d23774f7afdb16fa6);\n        \n    \n            var marker_6e12e9e4a32af9ed63cb798ed27bcb64 = L.marker(\n                [28.56230197, -80.57735648],\n                {}\n            ).addTo(marker_cluster_59d93cad82a9c30d23774f7afdb16fa6);\n        \n    \n            var marker_94d92757cb29c37c891d4fe40fecae00 = L.marker(\n                [28.56230197, -80.57735648],\n                {}\n            ).addTo(marker_cluster_59d93cad82a9c30d23774f7afdb16fa6);\n        \n    \n            var marker_3456026ab9fe05e043179e3190428614 = L.marker(\n                [28.56230197, -80.57735648],\n                {}\n            ).addTo(marker_cluster_59d93cad82a9c30d23774f7afdb16fa6);\n        \n    \n            var marker_6024e53057d4f5d4c82bfb01f877452b = L.marker(\n                [28.56230197, -80.57735648],\n                {}\n            ).addTo(marker_cluster_59d93cad82a9c30d23774f7afdb16fa6);\n        \n    \n            var marker_7c2afefd691043023042e93c1bb88d0a = L.marker(\n                [28.56230197, -80.57735648],\n                {}\n            ).addTo(marker_cluster_59d93cad82a9c30d23774f7afdb16fa6);\n        \n    \n            var marker_af394a00129c8d9f6bd480c2ae62c04a = L.marker(\n                [28.56230197, -80.57735648],\n                {}\n            ).addTo(marker_cluster_59d93cad82a9c30d23774f7afdb16fa6);\n        \n    \n            var marker_6283e439502746d5b49ed717e09c8172 = L.marker(\n                [28.56230197, -80.57735648],\n                {}\n            ).addTo(marker_cluster_59d93cad82a9c30d23774f7afdb16fa6);\n        \n    \n            var marker_1d48ead7900f33f2abb8cd519b801146 = L.marker(\n                [28.56230197, -80.57735648],\n                {}\n            ).addTo(marker_cluster_59d93cad82a9c30d23774f7afdb16fa6);\n        \n    \n            var marker_4ddfe6657a33ca49fd8dcfd005ec7194 = L.marker(\n                [28.56230197, -80.57735648],\n                {}\n            ).addTo(marker_cluster_59d93cad82a9c30d23774f7afdb16fa6);\n        \n    \n            var marker_a5518df8f39fd81f33bea79b2b374600 = L.marker(\n                [28.56230197, -80.57735648],\n                {}\n            ).addTo(marker_cluster_59d93cad82a9c30d23774f7afdb16fa6);\n        \n    \n            var marker_e0e7be9906e5f7d1b09b18dd614b23a7 = L.marker(\n                [28.56230197, -80.57735648],\n                {}\n            ).addTo(marker_cluster_59d93cad82a9c30d23774f7afdb16fa6);\n        \n    \n            var marker_b3f472df1b1f0da92602036639ccc9b5 = L.marker(\n                [28.56230197, -80.57735648],\n                {}\n            ).addTo(marker_cluster_59d93cad82a9c30d23774f7afdb16fa6);\n        \n    \n            var marker_e0bb29db99c873643e930d903d0b069b = L.marker(\n                [28.56230197, -80.57735648],\n                {}\n            ).addTo(marker_cluster_59d93cad82a9c30d23774f7afdb16fa6);\n        \n    \n            var marker_06fab132eb35b972c088fe2dfc0acad2 = L.marker(\n                [28.56230197, -80.57735648],\n                {}\n            ).addTo(marker_cluster_59d93cad82a9c30d23774f7afdb16fa6);\n        \n    \n            var marker_12d6e5462c28fadf5f56bc967a0a4847 = L.marker(\n                [28.56230197, -80.57735648],\n                {}\n            ).addTo(marker_cluster_59d93cad82a9c30d23774f7afdb16fa6);\n        \n    \n            var marker_1a73eeac7efdbd2f2995ad57fc55d01b = L.marker(\n                [28.56230197, -80.57735648],\n                {}\n            ).addTo(marker_cluster_59d93cad82a9c30d23774f7afdb16fa6);\n        \n    \n            var marker_5c0484371af443a8de3a58941bd9658e = L.marker(\n                [28.56230197, -80.57735648],\n                {}\n            ).addTo(marker_cluster_59d93cad82a9c30d23774f7afdb16fa6);\n        \n    \n            var marker_b32ceebe927a6fccd7e79b9c3e8dde49 = L.marker(\n                [28.56230197, -80.57735648],\n                {}\n            ).addTo(marker_cluster_59d93cad82a9c30d23774f7afdb16fa6);\n        \n    \n            var marker_cff1c02eaf3ac4023566725142c9c52b = L.marker(\n                [28.56230197, -80.57735648],\n                {}\n            ).addTo(marker_cluster_59d93cad82a9c30d23774f7afdb16fa6);\n        \n    \n            var marker_4b5a5bf700716da69ccbd3ec13bd005e = L.marker(\n                [28.56230197, -80.57735648],\n                {}\n            ).addTo(marker_cluster_59d93cad82a9c30d23774f7afdb16fa6);\n        \n    \n            var marker_3441cf62f7a525d38e3c8d61b6b25059 = L.marker(\n                [28.56230197, -80.57735648],\n                {}\n            ).addTo(marker_cluster_59d93cad82a9c30d23774f7afdb16fa6);\n        \n    \n            var marker_e9c7ab2872bc90c5b31ed879155c17e6 = L.marker(\n                [28.56230197, -80.57735648],\n                {}\n            ).addTo(marker_cluster_59d93cad82a9c30d23774f7afdb16fa6);\n        \n    \n            var marker_4ae28a850ab5588daa36b6f322f8ed47 = L.marker(\n                [28.56230197, -80.57735648],\n                {}\n            ).addTo(marker_cluster_59d93cad82a9c30d23774f7afdb16fa6);\n        \n    \n            var marker_3ff197343cc1442ac0f06ff0c369ba75 = L.marker(\n                [34.63283416, -120.6107455],\n                {}\n            ).addTo(marker_cluster_59d93cad82a9c30d23774f7afdb16fa6);\n        \n    \n            var marker_d15ee333f0444412b8f0a5fdc156907f = L.marker(\n                [34.63283416, -120.6107455],\n                {}\n            ).addTo(marker_cluster_59d93cad82a9c30d23774f7afdb16fa6);\n        \n    \n            var marker_997bba43c7f6fbc338fc103d5ddf01da = L.marker(\n                [34.63283416, -120.6107455],\n                {}\n            ).addTo(marker_cluster_59d93cad82a9c30d23774f7afdb16fa6);\n        \n    \n            var marker_f2c68ed38662fa2ebb703548da548bff = L.marker(\n                [34.63283416, -120.6107455],\n                {}\n            ).addTo(marker_cluster_59d93cad82a9c30d23774f7afdb16fa6);\n        \n    \n            var marker_06e71d0dd65a4046c50d8473c1fbeed3 = L.marker(\n                [34.63283416, -120.6107455],\n                {}\n            ).addTo(marker_cluster_59d93cad82a9c30d23774f7afdb16fa6);\n        \n    \n            var marker_b21414b206d06eb1e7c3e2028b50bfda = L.marker(\n                [34.63283416, -120.6107455],\n                {}\n            ).addTo(marker_cluster_59d93cad82a9c30d23774f7afdb16fa6);\n        \n    \n            var marker_8d6ea91d7c6c0db8b8b92116f281db72 = L.marker(\n                [34.63283416, -120.6107455],\n                {}\n            ).addTo(marker_cluster_59d93cad82a9c30d23774f7afdb16fa6);\n        \n    \n            var marker_186e35a0ac73e2116ab759ac4b18c6a3 = L.marker(\n                [34.63283416, -120.6107455],\n                {}\n            ).addTo(marker_cluster_59d93cad82a9c30d23774f7afdb16fa6);\n        \n    \n            var marker_db09a20c00e2a7a8594a659c9c2b210c = L.marker(\n                [34.63283416, -120.6107455],\n                {}\n            ).addTo(marker_cluster_59d93cad82a9c30d23774f7afdb16fa6);\n        \n    \n            var marker_e32d38318f04c735f6f468cef1ee1f07 = L.marker(\n                [34.63283416, -120.6107455],\n                {}\n            ).addTo(marker_cluster_59d93cad82a9c30d23774f7afdb16fa6);\n        \n    \n            var marker_31d656f1e477bd329b919dd123b43a9a = L.marker(\n                [28.57325457, -80.64689529],\n                {}\n            ).addTo(marker_cluster_59d93cad82a9c30d23774f7afdb16fa6);\n        \n    \n            var marker_1fb91cd96844b5746c30124afbb201b7 = L.marker(\n                [28.57325457, -80.64689529],\n                {}\n            ).addTo(marker_cluster_59d93cad82a9c30d23774f7afdb16fa6);\n        \n    \n            var marker_2c6a82e1898318a4e6657ada58c7fb78 = L.marker(\n                [28.57325457, -80.64689529],\n                {}\n            ).addTo(marker_cluster_59d93cad82a9c30d23774f7afdb16fa6);\n        \n    \n            var marker_4ac67af132625087fca412c617e9e58e = L.marker(\n                [28.57325457, -80.64689529],\n                {}\n            ).addTo(marker_cluster_59d93cad82a9c30d23774f7afdb16fa6);\n        \n    \n            var marker_2d3ba4e8cc7c70a3dfc5c0ebc46c7482 = L.marker(\n                [28.57325457, -80.64689529],\n                {}\n            ).addTo(marker_cluster_59d93cad82a9c30d23774f7afdb16fa6);\n        \n    \n            var marker_b64b9d6c790031d21855ef1d5acd327a = L.marker(\n                [28.57325457, -80.64689529],\n                {}\n            ).addTo(marker_cluster_59d93cad82a9c30d23774f7afdb16fa6);\n        \n    \n            var marker_15633660446c5066e8c41444f1149940 = L.marker(\n                [28.57325457, -80.64689529],\n                {}\n            ).addTo(marker_cluster_59d93cad82a9c30d23774f7afdb16fa6);\n        \n    \n            var marker_aa205d2f649d14c81bb79f04a6449212 = L.marker(\n                [28.57325457, -80.64689529],\n                {}\n            ).addTo(marker_cluster_59d93cad82a9c30d23774f7afdb16fa6);\n        \n    \n            var marker_09364fad7f473dc37279ea80f19bfd0b = L.marker(\n                [28.57325457, -80.64689529],\n                {}\n            ).addTo(marker_cluster_59d93cad82a9c30d23774f7afdb16fa6);\n        \n    \n            var marker_0d9f2611477f95a2011eda751bd78490 = L.marker(\n                [28.57325457, -80.64689529],\n                {}\n            ).addTo(marker_cluster_59d93cad82a9c30d23774f7afdb16fa6);\n        \n    \n            var marker_cc4da3345dc5f29c0d33a443acf86aed = L.marker(\n                [28.57325457, -80.64689529],\n                {}\n            ).addTo(marker_cluster_59d93cad82a9c30d23774f7afdb16fa6);\n        \n    \n            var marker_795b12b07000ff054d893964a6d6d6e4 = L.marker(\n                [28.57325457, -80.64689529],\n                {}\n            ).addTo(marker_cluster_59d93cad82a9c30d23774f7afdb16fa6);\n        \n    \n            var marker_c3072f7685c4795c47495bd4dca7d0e5 = L.marker(\n                [28.57325457, -80.64689529],\n                {}\n            ).addTo(marker_cluster_59d93cad82a9c30d23774f7afdb16fa6);\n        \n    \n            var marker_fbb73c924199b8f54262fe1833ef8ced = L.marker(\n                [28.56319718, -80.57682003],\n                {}\n            ).addTo(marker_cluster_59d93cad82a9c30d23774f7afdb16fa6);\n        \n    \n            var marker_04bb16c2e63963c646f631b4c7983408 = L.marker(\n                [28.56319718, -80.57682003],\n                {}\n            ).addTo(marker_cluster_59d93cad82a9c30d23774f7afdb16fa6);\n        \n    \n            var marker_6d742fba5b5b58f4acbf7ed4d348712b = L.marker(\n                [28.56319718, -80.57682003],\n                {}\n            ).addTo(marker_cluster_59d93cad82a9c30d23774f7afdb16fa6);\n        \n    \n            var marker_76c77248ce59226838ef42c977bb9cdf = L.marker(\n                [28.56319718, -80.57682003],\n                {}\n            ).addTo(marker_cluster_59d93cad82a9c30d23774f7afdb16fa6);\n        \n    \n            var marker_83dadc197aa29b0cf4d1e71ba5295dde = L.marker(\n                [28.56319718, -80.57682003],\n                {}\n            ).addTo(marker_cluster_59d93cad82a9c30d23774f7afdb16fa6);\n        \n    \n            var marker_72f20b3546ab90e6d38b29d2294000ec = L.marker(\n                [28.56319718, -80.57682003],\n                {}\n            ).addTo(marker_cluster_59d93cad82a9c30d23774f7afdb16fa6);\n        \n    \n            var marker_cdc66cae0b0c66e70f02de8ae2feee6d = L.marker(\n                [28.56319718, -80.57682003],\n                {}\n            ).addTo(marker_cluster_59d93cad82a9c30d23774f7afdb16fa6);\n        \n    \n            marker_cluster_59d93cad82a9c30d23774f7afdb16fa6.addTo(map_25a36abbd64d06c3a4883102ece67787);\n        \n&lt;/script&gt;\n&lt;/html&gt;\" style=\"position:absolute;width:100%;height:100%;left:0;top:0;border:none !important;\" allowfullscreen webkitallowfullscreen mozallowfullscreen></iframe></div></div>"
          },
          "metadata": {}
        }
      ],
      "execution_count": 35
    },
    {
      "cell_type": "code",
      "source": "spacex_df.dtypes",
      "metadata": {
        "trusted": true
      },
      "outputs": [
        {
          "execution_count": 36,
          "output_type": "execute_result",
          "data": {
            "text/plain": "Launch Site      object\nLat             float64\nLong            float64\nclass             int64\nmarker_color     object\ndtype: object"
          },
          "metadata": {}
        }
      ],
      "execution_count": 36
    },
    {
      "cell_type": "markdown",
      "source": "Your updated map may look like the following screenshots:\n",
      "metadata": {}
    },
    {
      "cell_type": "markdown",
      "source": "<center>\n    <img src=\"https://cf-courses-data.s3.us.cloud-object-storage.appdomain.cloud/IBM-DS0321EN-SkillsNetwork/labs/module_3/images/launch_site_marker_cluster.png\">\n</center>\n",
      "metadata": {}
    },
    {
      "cell_type": "markdown",
      "source": "<center>\n    <img src=\"https://cf-courses-data.s3.us.cloud-object-storage.appdomain.cloud/IBM-DS0321EN-SkillsNetwork/labs/module_3/images/launch_site_marker_cluster_zoomed.png\">\n</center>\n",
      "metadata": {}
    },
    {
      "cell_type": "markdown",
      "source": "From the color-labeled markers in marker clusters, you should be able to easily identify which launch sites have relatively high success rates.\n",
      "metadata": {}
    },
    {
      "cell_type": "markdown",
      "source": "# TASK 3: Calculate the distances between a launch site to its proximities\n",
      "metadata": {}
    },
    {
      "cell_type": "markdown",
      "source": "Next, we need to explore and analyze the proximities of launch sites.\n",
      "metadata": {}
    },
    {
      "cell_type": "markdown",
      "source": "Let's first add a `MousePosition` on the map to get coordinate for a mouse over a point on the map. As such, while you are exploring the map, you can easily find the coordinates of any points of interests (such as railway)\n",
      "metadata": {}
    },
    {
      "cell_type": "code",
      "source": "# Add Mouse Position to get the coordinate (Lat, Long) for a mouse over on the map\nformatter = \"function(num) {return L.Util.formatNum(num, 5);};\"\nmouse_position = MousePosition(\n    position='topright',\n    separator=' Long: ',\n    empty_string='NaN',\n    lng_first=False,\n    num_digits=20,\n    prefix='Lat:',\n    lat_formatter=formatter,\n    lng_formatter=formatter,\n)\n\nsite_map.add_child(mouse_position)\nsite_map",
      "metadata": {
        "trusted": true
      },
      "outputs": [
        {
          "execution_count": 37,
          "output_type": "execute_result",
          "data": {
            "text/plain": "<folium.folium.Map at 0x5c18630>",
            "text/html": "<div style=\"width:100%;\"><div style=\"position:relative;width:100%;height:0;padding-bottom:60%;\"><span style=\"color:#565656\">Make this Notebook Trusted to load map: File -> Trust Notebook</span><iframe srcdoc=\"&lt;!DOCTYPE html&gt;\n&lt;html&gt;\n&lt;head&gt;\n    \n    &lt;meta http-equiv=&quot;content-type&quot; content=&quot;text/html; charset=UTF-8&quot; /&gt;\n    \n        &lt;script&gt;\n            L_NO_TOUCH = false;\n            L_DISABLE_3D = false;\n        &lt;/script&gt;\n    \n    &lt;style&gt;html, body {width: 100%;height: 100%;margin: 0;padding: 0;}&lt;/style&gt;\n    &lt;style&gt;#map {position:absolute;top:0;bottom:0;right:0;left:0;}&lt;/style&gt;\n    &lt;script src=&quot;https://cdn.jsdelivr.net/npm/leaflet@1.9.3/dist/leaflet.js&quot;&gt;&lt;/script&gt;\n    &lt;script src=&quot;https://code.jquery.com/jquery-3.7.1.min.js&quot;&gt;&lt;/script&gt;\n    &lt;script src=&quot;https://cdn.jsdelivr.net/npm/bootstrap@5.2.2/dist/js/bootstrap.bundle.min.js&quot;&gt;&lt;/script&gt;\n    &lt;script src=&quot;https://cdnjs.cloudflare.com/ajax/libs/Leaflet.awesome-markers/2.0.2/leaflet.awesome-markers.js&quot;&gt;&lt;/script&gt;\n    &lt;link rel=&quot;stylesheet&quot; href=&quot;https://cdn.jsdelivr.net/npm/leaflet@1.9.3/dist/leaflet.css&quot;/&gt;\n    &lt;link rel=&quot;stylesheet&quot; href=&quot;https://cdn.jsdelivr.net/npm/bootstrap@5.2.2/dist/css/bootstrap.min.css&quot;/&gt;\n    &lt;link rel=&quot;stylesheet&quot; href=&quot;https://netdna.bootstrapcdn.com/bootstrap/3.0.0/css/bootstrap.min.css&quot;/&gt;\n    &lt;link rel=&quot;stylesheet&quot; href=&quot;https://cdn.jsdelivr.net/npm/@fortawesome/fontawesome-free@6.2.0/css/all.min.css&quot;/&gt;\n    &lt;link rel=&quot;stylesheet&quot; href=&quot;https://cdnjs.cloudflare.com/ajax/libs/Leaflet.awesome-markers/2.0.2/leaflet.awesome-markers.css&quot;/&gt;\n    &lt;link rel=&quot;stylesheet&quot; href=&quot;https://cdn.jsdelivr.net/gh/python-visualization/folium/folium/templates/leaflet.awesome.rotate.min.css&quot;/&gt;\n    \n            &lt;meta name=&quot;viewport&quot; content=&quot;width=device-width,\n                initial-scale=1.0, maximum-scale=1.0, user-scalable=no&quot; /&gt;\n            &lt;style&gt;\n                #map_25a36abbd64d06c3a4883102ece67787 {\n                    position: relative;\n                    width: 100.0%;\n                    height: 100.0%;\n                    left: 0.0%;\n                    top: 0.0%;\n                }\n                .leaflet-container { font-size: 1rem; }\n            &lt;/style&gt;\n        \n    &lt;script src=&quot;https://cdnjs.cloudflare.com/ajax/libs/leaflet.markercluster/1.1.0/leaflet.markercluster.js&quot;&gt;&lt;/script&gt;\n    &lt;link rel=&quot;stylesheet&quot; href=&quot;https://cdnjs.cloudflare.com/ajax/libs/leaflet.markercluster/1.1.0/MarkerCluster.css&quot;/&gt;\n    &lt;link rel=&quot;stylesheet&quot; href=&quot;https://cdnjs.cloudflare.com/ajax/libs/leaflet.markercluster/1.1.0/MarkerCluster.Default.css&quot;/&gt;\n    &lt;script src=&quot;https://cdn.jsdelivr.net/gh/ardhi/Leaflet.MousePosition/src/L.Control.MousePosition.min.js&quot;&gt;&lt;/script&gt;\n    &lt;link rel=&quot;stylesheet&quot; href=&quot;https://cdn.jsdelivr.net/gh/ardhi/Leaflet.MousePosition/src/L.Control.MousePosition.min.css&quot;/&gt;\n&lt;/head&gt;\n&lt;body&gt;\n    \n    \n            &lt;div class=&quot;folium-map&quot; id=&quot;map_25a36abbd64d06c3a4883102ece67787&quot; &gt;&lt;/div&gt;\n        \n&lt;/body&gt;\n&lt;script&gt;\n    \n    \n            var map_25a36abbd64d06c3a4883102ece67787 = L.map(\n                &quot;map_25a36abbd64d06c3a4883102ece67787&quot;,\n                {\n                    center: [29.559684888503615, -95.0830971930759],\n                    crs: L.CRS.EPSG3857,\n                    zoom: 5,\n                    zoomControl: true,\n                    preferCanvas: false,\n                }\n            );\n\n            \n\n        \n    \n            var tile_layer_972b21993b28dacb71f94852f3b05075 = L.tileLayer(\n                &quot;https://tile.openstreetmap.org/{z}/{x}/{y}.png&quot;,\n                {&quot;attribution&quot;: &quot;\\u0026copy; \\u003ca href=\\&quot;https://www.openstreetmap.org/copyright\\&quot;\\u003eOpenStreetMap\\u003c/a\\u003e contributors&quot;, &quot;detectRetina&quot;: false, &quot;maxNativeZoom&quot;: 19, &quot;maxZoom&quot;: 19, &quot;minZoom&quot;: 0, &quot;noWrap&quot;: false, &quot;opacity&quot;: 1, &quot;subdomains&quot;: &quot;abc&quot;, &quot;tms&quot;: false}\n            );\n        \n    \n            tile_layer_972b21993b28dacb71f94852f3b05075.addTo(map_25a36abbd64d06c3a4883102ece67787);\n        \n    \n            var circle_a5c772454f9535bbdcb9a3ac9cbf96cb = L.circle(\n                [28.56230197, -80.57735648],\n                {&quot;bubblingMouseEvents&quot;: true, &quot;color&quot;: &quot;#000000&quot;, &quot;dashArray&quot;: null, &quot;dashOffset&quot;: null, &quot;fill&quot;: true, &quot;fillColor&quot;: &quot;#000000&quot;, &quot;fillOpacity&quot;: 0.2, &quot;fillRule&quot;: &quot;evenodd&quot;, &quot;lineCap&quot;: &quot;round&quot;, &quot;lineJoin&quot;: &quot;round&quot;, &quot;opacity&quot;: 1.0, &quot;radius&quot;: 1000, &quot;stroke&quot;: true, &quot;weight&quot;: 3}\n            ).addTo(map_25a36abbd64d06c3a4883102ece67787);\n        \n    \n        var popup_03f8d8bb3a35cd427a4b8b1eb4ebb1cf = L.popup({&quot;maxWidth&quot;: &quot;100%&quot;});\n\n        \n            \n                var html_3e6ed3f78c5067b916b41845c56b20d6 = $(`&lt;div id=&quot;html_3e6ed3f78c5067b916b41845c56b20d6&quot; style=&quot;width: 100.0%; height: 100.0%;&quot;&gt;CCAFS LC-40&lt;/div&gt;`)[0];\n                popup_03f8d8bb3a35cd427a4b8b1eb4ebb1cf.setContent(html_3e6ed3f78c5067b916b41845c56b20d6);\n            \n        \n\n        circle_a5c772454f9535bbdcb9a3ac9cbf96cb.bindPopup(popup_03f8d8bb3a35cd427a4b8b1eb4ebb1cf)\n        ;\n\n        \n    \n    \n            var marker_d70eb97037df1dbc88d24a8ed24b4abf = L.marker(\n                [28.56230197, -80.57735648],\n                {}\n            ).addTo(map_25a36abbd64d06c3a4883102ece67787);\n        \n    \n            var div_icon_b8cc8be3421c796ab29d1a8e99b9c714 = L.divIcon({&quot;className&quot;: &quot;empty&quot;, &quot;html&quot;: &quot;\\u003cdiv style=\\&quot;font-size: 12; color:#d35400;\\&quot;\\u003e\\u003cb\\u003eCCAFS LC-40\\u003c/b\\u003e\\u003c/div\\u003e&quot;, &quot;iconAnchor&quot;: [0, 0], &quot;iconSize&quot;: [20, 20]});\n            marker_d70eb97037df1dbc88d24a8ed24b4abf.setIcon(div_icon_b8cc8be3421c796ab29d1a8e99b9c714);\n        \n    \n            var circle_ab6e74ee92c1d41f5ca01064d9f103a6 = L.circle(\n                [28.56319718, -80.57682003],\n                {&quot;bubblingMouseEvents&quot;: true, &quot;color&quot;: &quot;#000000&quot;, &quot;dashArray&quot;: null, &quot;dashOffset&quot;: null, &quot;fill&quot;: true, &quot;fillColor&quot;: &quot;#000000&quot;, &quot;fillOpacity&quot;: 0.2, &quot;fillRule&quot;: &quot;evenodd&quot;, &quot;lineCap&quot;: &quot;round&quot;, &quot;lineJoin&quot;: &quot;round&quot;, &quot;opacity&quot;: 1.0, &quot;radius&quot;: 1000, &quot;stroke&quot;: true, &quot;weight&quot;: 3}\n            ).addTo(map_25a36abbd64d06c3a4883102ece67787);\n        \n    \n        var popup_988b6e81a754053e532c04d05e9ff7c2 = L.popup({&quot;maxWidth&quot;: &quot;100%&quot;});\n\n        \n            \n                var html_70661f959fcbf30c7a55d199142461d5 = $(`&lt;div id=&quot;html_70661f959fcbf30c7a55d199142461d5&quot; style=&quot;width: 100.0%; height: 100.0%;&quot;&gt;CCAFS SLC-40&lt;/div&gt;`)[0];\n                popup_988b6e81a754053e532c04d05e9ff7c2.setContent(html_70661f959fcbf30c7a55d199142461d5);\n            \n        \n\n        circle_ab6e74ee92c1d41f5ca01064d9f103a6.bindPopup(popup_988b6e81a754053e532c04d05e9ff7c2)\n        ;\n\n        \n    \n    \n            var marker_841e53f0ff21eb324181cf31bd2d9e5d = L.marker(\n                [28.56319718, -80.57682003],\n                {}\n            ).addTo(map_25a36abbd64d06c3a4883102ece67787);\n        \n    \n            var div_icon_990e4f958bd344f93dd847a3f879d11d = L.divIcon({&quot;className&quot;: &quot;empty&quot;, &quot;html&quot;: &quot;\\u003cdiv style=\\&quot;font-size: 12; color:#d35400;\\&quot;\\u003e\\u003cb\\u003eCCAFS SLC-40\\u003c/b\\u003e\\u003c/div\\u003e&quot;, &quot;iconAnchor&quot;: [0, 0], &quot;iconSize&quot;: [20, 20]});\n            marker_841e53f0ff21eb324181cf31bd2d9e5d.setIcon(div_icon_990e4f958bd344f93dd847a3f879d11d);\n        \n    \n            var circle_0ae20139db6b4d7d24198c8c235ce946 = L.circle(\n                [28.57325457, -80.64689529],\n                {&quot;bubblingMouseEvents&quot;: true, &quot;color&quot;: &quot;#000000&quot;, &quot;dashArray&quot;: null, &quot;dashOffset&quot;: null, &quot;fill&quot;: true, &quot;fillColor&quot;: &quot;#000000&quot;, &quot;fillOpacity&quot;: 0.2, &quot;fillRule&quot;: &quot;evenodd&quot;, &quot;lineCap&quot;: &quot;round&quot;, &quot;lineJoin&quot;: &quot;round&quot;, &quot;opacity&quot;: 1.0, &quot;radius&quot;: 1000, &quot;stroke&quot;: true, &quot;weight&quot;: 3}\n            ).addTo(map_25a36abbd64d06c3a4883102ece67787);\n        \n    \n        var popup_c1864338e1a475a13d87451c55d89d72 = L.popup({&quot;maxWidth&quot;: &quot;100%&quot;});\n\n        \n            \n                var html_5ea89fd40891e3585c5cea240794f51f = $(`&lt;div id=&quot;html_5ea89fd40891e3585c5cea240794f51f&quot; style=&quot;width: 100.0%; height: 100.0%;&quot;&gt;KSC LC-39A&lt;/div&gt;`)[0];\n                popup_c1864338e1a475a13d87451c55d89d72.setContent(html_5ea89fd40891e3585c5cea240794f51f);\n            \n        \n\n        circle_0ae20139db6b4d7d24198c8c235ce946.bindPopup(popup_c1864338e1a475a13d87451c55d89d72)\n        ;\n\n        \n    \n    \n            var marker_b56ec19c7569e21a456b42e31925b99c = L.marker(\n                [28.57325457, -80.64689529],\n                {}\n            ).addTo(map_25a36abbd64d06c3a4883102ece67787);\n        \n    \n            var div_icon_6ea2ecdb07e2f0acd84d72bf77543d45 = L.divIcon({&quot;className&quot;: &quot;empty&quot;, &quot;html&quot;: &quot;\\u003cdiv style=\\&quot;font-size: 12; color:#d35400;\\&quot;\\u003e\\u003cb\\u003eKSC LC-39A\\u003c/b\\u003e\\u003c/div\\u003e&quot;, &quot;iconAnchor&quot;: [0, 0], &quot;iconSize&quot;: [20, 20]});\n            marker_b56ec19c7569e21a456b42e31925b99c.setIcon(div_icon_6ea2ecdb07e2f0acd84d72bf77543d45);\n        \n    \n            var circle_593cb2a77fcd48cf9cb5d172da9dfe89 = L.circle(\n                [34.63283416, -120.6107455],\n                {&quot;bubblingMouseEvents&quot;: true, &quot;color&quot;: &quot;#000000&quot;, &quot;dashArray&quot;: null, &quot;dashOffset&quot;: null, &quot;fill&quot;: true, &quot;fillColor&quot;: &quot;#000000&quot;, &quot;fillOpacity&quot;: 0.2, &quot;fillRule&quot;: &quot;evenodd&quot;, &quot;lineCap&quot;: &quot;round&quot;, &quot;lineJoin&quot;: &quot;round&quot;, &quot;opacity&quot;: 1.0, &quot;radius&quot;: 1000, &quot;stroke&quot;: true, &quot;weight&quot;: 3}\n            ).addTo(map_25a36abbd64d06c3a4883102ece67787);\n        \n    \n        var popup_e342cd23fa5596552351509ae3a8876c = L.popup({&quot;maxWidth&quot;: &quot;100%&quot;});\n\n        \n            \n                var html_b31acfcdb69cbd3595b6ede9fc315789 = $(`&lt;div id=&quot;html_b31acfcdb69cbd3595b6ede9fc315789&quot; style=&quot;width: 100.0%; height: 100.0%;&quot;&gt;VAFB SLC-4E&lt;/div&gt;`)[0];\n                popup_e342cd23fa5596552351509ae3a8876c.setContent(html_b31acfcdb69cbd3595b6ede9fc315789);\n            \n        \n\n        circle_593cb2a77fcd48cf9cb5d172da9dfe89.bindPopup(popup_e342cd23fa5596552351509ae3a8876c)\n        ;\n\n        \n    \n    \n            var marker_7332456aca8ee856cfbbed86b70e71e5 = L.marker(\n                [34.63283416, -120.6107455],\n                {}\n            ).addTo(map_25a36abbd64d06c3a4883102ece67787);\n        \n    \n            var div_icon_de27aaa66263007ee62d566c27bdf8e8 = L.divIcon({&quot;className&quot;: &quot;empty&quot;, &quot;html&quot;: &quot;\\u003cdiv style=\\&quot;font-size: 12; color:#d35400;\\&quot;\\u003e\\u003cb\\u003eVAFB SLC-4E\\u003c/b\\u003e\\u003c/div\\u003e&quot;, &quot;iconAnchor&quot;: [0, 0], &quot;iconSize&quot;: [20, 20]});\n            marker_7332456aca8ee856cfbbed86b70e71e5.setIcon(div_icon_de27aaa66263007ee62d566c27bdf8e8);\n        \n    \n            tile_layer_972b21993b28dacb71f94852f3b05075.addTo(map_25a36abbd64d06c3a4883102ece67787);\n        \n    \n            var marker_cluster_59d93cad82a9c30d23774f7afdb16fa6 = L.markerClusterGroup(\n                {}\n            );\n        \n    \n            var marker_350d4f95e34b4ca5b0f9866c157feb00 = L.marker(\n                [28.56230197, -80.57735648],\n                {}\n            ).addTo(marker_cluster_59d93cad82a9c30d23774f7afdb16fa6);\n        \n    \n            var marker_aca7822ec9e922c038fa62b4026f7664 = L.marker(\n                [28.56230197, -80.57735648],\n                {}\n            ).addTo(marker_cluster_59d93cad82a9c30d23774f7afdb16fa6);\n        \n    \n            var marker_a36922bfc5d243ca225d0e851f49f678 = L.marker(\n                [28.56230197, -80.57735648],\n                {}\n            ).addTo(marker_cluster_59d93cad82a9c30d23774f7afdb16fa6);\n        \n    \n            var marker_6e12e9e4a32af9ed63cb798ed27bcb64 = L.marker(\n                [28.56230197, -80.57735648],\n                {}\n            ).addTo(marker_cluster_59d93cad82a9c30d23774f7afdb16fa6);\n        \n    \n            var marker_94d92757cb29c37c891d4fe40fecae00 = L.marker(\n                [28.56230197, -80.57735648],\n                {}\n            ).addTo(marker_cluster_59d93cad82a9c30d23774f7afdb16fa6);\n        \n    \n            var marker_3456026ab9fe05e043179e3190428614 = L.marker(\n                [28.56230197, -80.57735648],\n                {}\n            ).addTo(marker_cluster_59d93cad82a9c30d23774f7afdb16fa6);\n        \n    \n            var marker_6024e53057d4f5d4c82bfb01f877452b = L.marker(\n                [28.56230197, -80.57735648],\n                {}\n            ).addTo(marker_cluster_59d93cad82a9c30d23774f7afdb16fa6);\n        \n    \n            var marker_7c2afefd691043023042e93c1bb88d0a = L.marker(\n                [28.56230197, -80.57735648],\n                {}\n            ).addTo(marker_cluster_59d93cad82a9c30d23774f7afdb16fa6);\n        \n    \n            var marker_af394a00129c8d9f6bd480c2ae62c04a = L.marker(\n                [28.56230197, -80.57735648],\n                {}\n            ).addTo(marker_cluster_59d93cad82a9c30d23774f7afdb16fa6);\n        \n    \n            var marker_6283e439502746d5b49ed717e09c8172 = L.marker(\n                [28.56230197, -80.57735648],\n                {}\n            ).addTo(marker_cluster_59d93cad82a9c30d23774f7afdb16fa6);\n        \n    \n            var marker_1d48ead7900f33f2abb8cd519b801146 = L.marker(\n                [28.56230197, -80.57735648],\n                {}\n            ).addTo(marker_cluster_59d93cad82a9c30d23774f7afdb16fa6);\n        \n    \n            var marker_4ddfe6657a33ca49fd8dcfd005ec7194 = L.marker(\n                [28.56230197, -80.57735648],\n                {}\n            ).addTo(marker_cluster_59d93cad82a9c30d23774f7afdb16fa6);\n        \n    \n            var marker_a5518df8f39fd81f33bea79b2b374600 = L.marker(\n                [28.56230197, -80.57735648],\n                {}\n            ).addTo(marker_cluster_59d93cad82a9c30d23774f7afdb16fa6);\n        \n    \n            var marker_e0e7be9906e5f7d1b09b18dd614b23a7 = L.marker(\n                [28.56230197, -80.57735648],\n                {}\n            ).addTo(marker_cluster_59d93cad82a9c30d23774f7afdb16fa6);\n        \n    \n            var marker_b3f472df1b1f0da92602036639ccc9b5 = L.marker(\n                [28.56230197, -80.57735648],\n                {}\n            ).addTo(marker_cluster_59d93cad82a9c30d23774f7afdb16fa6);\n        \n    \n            var marker_e0bb29db99c873643e930d903d0b069b = L.marker(\n                [28.56230197, -80.57735648],\n                {}\n            ).addTo(marker_cluster_59d93cad82a9c30d23774f7afdb16fa6);\n        \n    \n            var marker_06fab132eb35b972c088fe2dfc0acad2 = L.marker(\n                [28.56230197, -80.57735648],\n                {}\n            ).addTo(marker_cluster_59d93cad82a9c30d23774f7afdb16fa6);\n        \n    \n            var marker_12d6e5462c28fadf5f56bc967a0a4847 = L.marker(\n                [28.56230197, -80.57735648],\n                {}\n            ).addTo(marker_cluster_59d93cad82a9c30d23774f7afdb16fa6);\n        \n    \n            var marker_1a73eeac7efdbd2f2995ad57fc55d01b = L.marker(\n                [28.56230197, -80.57735648],\n                {}\n            ).addTo(marker_cluster_59d93cad82a9c30d23774f7afdb16fa6);\n        \n    \n            var marker_5c0484371af443a8de3a58941bd9658e = L.marker(\n                [28.56230197, -80.57735648],\n                {}\n            ).addTo(marker_cluster_59d93cad82a9c30d23774f7afdb16fa6);\n        \n    \n            var marker_b32ceebe927a6fccd7e79b9c3e8dde49 = L.marker(\n                [28.56230197, -80.57735648],\n                {}\n            ).addTo(marker_cluster_59d93cad82a9c30d23774f7afdb16fa6);\n        \n    \n            var marker_cff1c02eaf3ac4023566725142c9c52b = L.marker(\n                [28.56230197, -80.57735648],\n                {}\n            ).addTo(marker_cluster_59d93cad82a9c30d23774f7afdb16fa6);\n        \n    \n            var marker_4b5a5bf700716da69ccbd3ec13bd005e = L.marker(\n                [28.56230197, -80.57735648],\n                {}\n            ).addTo(marker_cluster_59d93cad82a9c30d23774f7afdb16fa6);\n        \n    \n            var marker_3441cf62f7a525d38e3c8d61b6b25059 = L.marker(\n                [28.56230197, -80.57735648],\n                {}\n            ).addTo(marker_cluster_59d93cad82a9c30d23774f7afdb16fa6);\n        \n    \n            var marker_e9c7ab2872bc90c5b31ed879155c17e6 = L.marker(\n                [28.56230197, -80.57735648],\n                {}\n            ).addTo(marker_cluster_59d93cad82a9c30d23774f7afdb16fa6);\n        \n    \n            var marker_4ae28a850ab5588daa36b6f322f8ed47 = L.marker(\n                [28.56230197, -80.57735648],\n                {}\n            ).addTo(marker_cluster_59d93cad82a9c30d23774f7afdb16fa6);\n        \n    \n            var marker_3ff197343cc1442ac0f06ff0c369ba75 = L.marker(\n                [34.63283416, -120.6107455],\n                {}\n            ).addTo(marker_cluster_59d93cad82a9c30d23774f7afdb16fa6);\n        \n    \n            var marker_d15ee333f0444412b8f0a5fdc156907f = L.marker(\n                [34.63283416, -120.6107455],\n                {}\n            ).addTo(marker_cluster_59d93cad82a9c30d23774f7afdb16fa6);\n        \n    \n            var marker_997bba43c7f6fbc338fc103d5ddf01da = L.marker(\n                [34.63283416, -120.6107455],\n                {}\n            ).addTo(marker_cluster_59d93cad82a9c30d23774f7afdb16fa6);\n        \n    \n            var marker_f2c68ed38662fa2ebb703548da548bff = L.marker(\n                [34.63283416, -120.6107455],\n                {}\n            ).addTo(marker_cluster_59d93cad82a9c30d23774f7afdb16fa6);\n        \n    \n            var marker_06e71d0dd65a4046c50d8473c1fbeed3 = L.marker(\n                [34.63283416, -120.6107455],\n                {}\n            ).addTo(marker_cluster_59d93cad82a9c30d23774f7afdb16fa6);\n        \n    \n            var marker_b21414b206d06eb1e7c3e2028b50bfda = L.marker(\n                [34.63283416, -120.6107455],\n                {}\n            ).addTo(marker_cluster_59d93cad82a9c30d23774f7afdb16fa6);\n        \n    \n            var marker_8d6ea91d7c6c0db8b8b92116f281db72 = L.marker(\n                [34.63283416, -120.6107455],\n                {}\n            ).addTo(marker_cluster_59d93cad82a9c30d23774f7afdb16fa6);\n        \n    \n            var marker_186e35a0ac73e2116ab759ac4b18c6a3 = L.marker(\n                [34.63283416, -120.6107455],\n                {}\n            ).addTo(marker_cluster_59d93cad82a9c30d23774f7afdb16fa6);\n        \n    \n            var marker_db09a20c00e2a7a8594a659c9c2b210c = L.marker(\n                [34.63283416, -120.6107455],\n                {}\n            ).addTo(marker_cluster_59d93cad82a9c30d23774f7afdb16fa6);\n        \n    \n            var marker_e32d38318f04c735f6f468cef1ee1f07 = L.marker(\n                [34.63283416, -120.6107455],\n                {}\n            ).addTo(marker_cluster_59d93cad82a9c30d23774f7afdb16fa6);\n        \n    \n            var marker_31d656f1e477bd329b919dd123b43a9a = L.marker(\n                [28.57325457, -80.64689529],\n                {}\n            ).addTo(marker_cluster_59d93cad82a9c30d23774f7afdb16fa6);\n        \n    \n            var marker_1fb91cd96844b5746c30124afbb201b7 = L.marker(\n                [28.57325457, -80.64689529],\n                {}\n            ).addTo(marker_cluster_59d93cad82a9c30d23774f7afdb16fa6);\n        \n    \n            var marker_2c6a82e1898318a4e6657ada58c7fb78 = L.marker(\n                [28.57325457, -80.64689529],\n                {}\n            ).addTo(marker_cluster_59d93cad82a9c30d23774f7afdb16fa6);\n        \n    \n            var marker_4ac67af132625087fca412c617e9e58e = L.marker(\n                [28.57325457, -80.64689529],\n                {}\n            ).addTo(marker_cluster_59d93cad82a9c30d23774f7afdb16fa6);\n        \n    \n            var marker_2d3ba4e8cc7c70a3dfc5c0ebc46c7482 = L.marker(\n                [28.57325457, -80.64689529],\n                {}\n            ).addTo(marker_cluster_59d93cad82a9c30d23774f7afdb16fa6);\n        \n    \n            var marker_b64b9d6c790031d21855ef1d5acd327a = L.marker(\n                [28.57325457, -80.64689529],\n                {}\n            ).addTo(marker_cluster_59d93cad82a9c30d23774f7afdb16fa6);\n        \n    \n            var marker_15633660446c5066e8c41444f1149940 = L.marker(\n                [28.57325457, -80.64689529],\n                {}\n            ).addTo(marker_cluster_59d93cad82a9c30d23774f7afdb16fa6);\n        \n    \n            var marker_aa205d2f649d14c81bb79f04a6449212 = L.marker(\n                [28.57325457, -80.64689529],\n                {}\n            ).addTo(marker_cluster_59d93cad82a9c30d23774f7afdb16fa6);\n        \n    \n            var marker_09364fad7f473dc37279ea80f19bfd0b = L.marker(\n                [28.57325457, -80.64689529],\n                {}\n            ).addTo(marker_cluster_59d93cad82a9c30d23774f7afdb16fa6);\n        \n    \n            var marker_0d9f2611477f95a2011eda751bd78490 = L.marker(\n                [28.57325457, -80.64689529],\n                {}\n            ).addTo(marker_cluster_59d93cad82a9c30d23774f7afdb16fa6);\n        \n    \n            var marker_cc4da3345dc5f29c0d33a443acf86aed = L.marker(\n                [28.57325457, -80.64689529],\n                {}\n            ).addTo(marker_cluster_59d93cad82a9c30d23774f7afdb16fa6);\n        \n    \n            var marker_795b12b07000ff054d893964a6d6d6e4 = L.marker(\n                [28.57325457, -80.64689529],\n                {}\n            ).addTo(marker_cluster_59d93cad82a9c30d23774f7afdb16fa6);\n        \n    \n            var marker_c3072f7685c4795c47495bd4dca7d0e5 = L.marker(\n                [28.57325457, -80.64689529],\n                {}\n            ).addTo(marker_cluster_59d93cad82a9c30d23774f7afdb16fa6);\n        \n    \n            var marker_fbb73c924199b8f54262fe1833ef8ced = L.marker(\n                [28.56319718, -80.57682003],\n                {}\n            ).addTo(marker_cluster_59d93cad82a9c30d23774f7afdb16fa6);\n        \n    \n            var marker_04bb16c2e63963c646f631b4c7983408 = L.marker(\n                [28.56319718, -80.57682003],\n                {}\n            ).addTo(marker_cluster_59d93cad82a9c30d23774f7afdb16fa6);\n        \n    \n            var marker_6d742fba5b5b58f4acbf7ed4d348712b = L.marker(\n                [28.56319718, -80.57682003],\n                {}\n            ).addTo(marker_cluster_59d93cad82a9c30d23774f7afdb16fa6);\n        \n    \n            var marker_76c77248ce59226838ef42c977bb9cdf = L.marker(\n                [28.56319718, -80.57682003],\n                {}\n            ).addTo(marker_cluster_59d93cad82a9c30d23774f7afdb16fa6);\n        \n    \n            var marker_83dadc197aa29b0cf4d1e71ba5295dde = L.marker(\n                [28.56319718, -80.57682003],\n                {}\n            ).addTo(marker_cluster_59d93cad82a9c30d23774f7afdb16fa6);\n        \n    \n            var marker_72f20b3546ab90e6d38b29d2294000ec = L.marker(\n                [28.56319718, -80.57682003],\n                {}\n            ).addTo(marker_cluster_59d93cad82a9c30d23774f7afdb16fa6);\n        \n    \n            var marker_cdc66cae0b0c66e70f02de8ae2feee6d = L.marker(\n                [28.56319718, -80.57682003],\n                {}\n            ).addTo(marker_cluster_59d93cad82a9c30d23774f7afdb16fa6);\n        \n    \n            marker_cluster_59d93cad82a9c30d23774f7afdb16fa6.addTo(map_25a36abbd64d06c3a4883102ece67787);\n        \n    \n            tile_layer_972b21993b28dacb71f94852f3b05075.addTo(map_25a36abbd64d06c3a4883102ece67787);\n        \n    \n            marker_cluster_59d93cad82a9c30d23774f7afdb16fa6.addTo(map_25a36abbd64d06c3a4883102ece67787);\n        \n    \n            var mouse_position_7fada76f3a5b46b6defefbdbe9172847 = new L.Control.MousePosition(\n                {&quot;emptyString&quot;: &quot;NaN&quot;, &quot;lngFirst&quot;: false, &quot;numDigits&quot;: 20, &quot;position&quot;: &quot;topright&quot;, &quot;prefix&quot;: &quot;Lat:&quot;, &quot;separator&quot;: &quot; Long: &quot;}\n            );\n            mouse_position_7fada76f3a5b46b6defefbdbe9172847.options[&quot;latFormatter&quot;] =\n                function(num) {return L.Util.formatNum(num, 5);};;\n            mouse_position_7fada76f3a5b46b6defefbdbe9172847.options[&quot;lngFormatter&quot;] =\n                function(num) {return L.Util.formatNum(num, 5);};;\n            map_25a36abbd64d06c3a4883102ece67787.addControl(mouse_position_7fada76f3a5b46b6defefbdbe9172847);\n        \n&lt;/script&gt;\n&lt;/html&gt;\" style=\"position:absolute;width:100%;height:100%;left:0;top:0;border:none !important;\" allowfullscreen webkitallowfullscreen mozallowfullscreen></iframe></div></div>"
          },
          "metadata": {}
        }
      ],
      "execution_count": 37
    },
    {
      "cell_type": "markdown",
      "source": "Now zoom in to a launch site and explore its proximity to see if you can easily find any railway, highway, coastline, etc. Move your mouse to these points and mark down their coordinates (shown on the top-left) in order to the distance to the launch site.\n",
      "metadata": {}
    },
    {
      "cell_type": "markdown",
      "source": "Now zoom in to a launch site and explore its proximity to see if you can easily find any railway, highway, coastline, etc. Move your mouse to these points and mark down their coordinates (shown on the top-left) in order to the distance to the launch site.\n",
      "metadata": {}
    },
    {
      "cell_type": "code",
      "source": "from math import sin, cos, sqrt, atan2, radians\n\ndef calculate_distance(lat1, lon1, lat2, lon2):\n    # approximate radius of earth in km\n    R = 6373.0\n\n    lat1 = radians(lat1)\n    lon1 = radians(lon1)\n    lat2 = radians(lat2)\n    lon2 = radians(lon2)\n\n    dlon = lon2 - lon1\n    dlat = lat2 - lat1\n\n    a = sin(dlat / 2)**2 + cos(lat1) * cos(lat2) * sin(dlon / 2)**2\n    c = 2 * atan2(sqrt(a), sqrt(1 - a))\n\n    distance = R * c\n    return distance",
      "metadata": {
        "trusted": true
      },
      "outputs": [],
      "execution_count": 38
    },
    {
      "cell_type": "markdown",
      "source": "*TODO:* Mark down a point on the closest coastline using MousePosition and calculate the distance between the coastline point and the launch site.\n",
      "metadata": {}
    },
    {
      "cell_type": "code",
      "source": "# find coordinate of the closet coastline\n# e.g.,: Lat: 28.56367  Lon: -80.57163\n# distance_coastline = calculate_distance(launch_site_lat, launch_site_lon, coastline_lat, coastline_lon)\n\n# Given coordinates\nlaunch_site_coordinates = [28.562302, -80.577356]\ncoastline_coordinates = [28.55075, -80.48035]\n\n# Calculate distance\ndistance = calculate_distance(launch_site_coordinates[0], launch_site_coordinates[1], coastline_coordinates[0], coastline_coordinates[1])\n\nprint(f\"The distance between the launch site and the closest coastline is approximately {distance:.2f} kilometers.\")\n",
      "metadata": {
        "trusted": true
      },
      "outputs": [
        {
          "name": "stdout",
          "text": "The distance between the launch site and the closest coastline is approximately 9.56 kilometers.\n",
          "output_type": "stream"
        }
      ],
      "execution_count": 55
    },
    {
      "cell_type": "code",
      "source": "# Create and add a folium.Marker on your selected closest coastline point on the map\n# Display the distance between coastline point and launch site using the icon property \n# for example\n# distance_marker = folium.Marker(\n#    coordinate,\n#    icon=DivIcon(\n#        icon_size=(20,20),\n#        icon_anchor=(0,0),\n#        html='<div style=\"font-size: 12; color:#d35400;\"><b>%s</b></div>' % \"{:10.2f} KM\".format(distance),\n#        )\n#    )\n\nimport folium\nfrom folium import plugins\n\n# Example coordinates\nlaunch_site_coordinates = [28.562302, -80.577356]\ncoastline_coordinates = [28.55075, -80.48035]\n\n# Calculate distance\ndistance = calculate_distance(launch_site_coordinates[0], launch_site_coordinates[1], coastline_coordinates[0], coastline_coordinates[1])\n\n# Create a folium.Marker for the closest coastline point\ncoastline_marker = folium.Marker(\n    location=coastline_coordinates,\n    icon=folium.DivIcon(\n        icon_size=(20, 20),\n        icon_anchor=(0, 0),\n        html=f'<div style=\"font-size: 12; color:#d35400;\"><b>{distance:.2f} KM</b></div>',\n    )\n)\n\n# Create a folium.Map centered around the launch site\nsite_map = folium.Map(location=launch_site_coordinates, zoom_start=10)\n\n# Add the coastline marker to the map\ncoastline_marker.add_to(site_map)\n\n# Display the map\nsite_map\n",
      "metadata": {
        "trusted": true
      },
      "outputs": [
        {
          "execution_count": 57,
          "output_type": "execute_result",
          "data": {
            "text/plain": "<folium.folium.Map at 0x5c5bfa0>",
            "text/html": "<div style=\"width:100%;\"><div style=\"position:relative;width:100%;height:0;padding-bottom:60%;\"><span style=\"color:#565656\">Make this Notebook Trusted to load map: File -> Trust Notebook</span><iframe srcdoc=\"&lt;!DOCTYPE html&gt;\n&lt;html&gt;\n&lt;head&gt;\n    \n    &lt;meta http-equiv=&quot;content-type&quot; content=&quot;text/html; charset=UTF-8&quot; /&gt;\n    \n        &lt;script&gt;\n            L_NO_TOUCH = false;\n            L_DISABLE_3D = false;\n        &lt;/script&gt;\n    \n    &lt;style&gt;html, body {width: 100%;height: 100%;margin: 0;padding: 0;}&lt;/style&gt;\n    &lt;style&gt;#map {position:absolute;top:0;bottom:0;right:0;left:0;}&lt;/style&gt;\n    &lt;script src=&quot;https://cdn.jsdelivr.net/npm/leaflet@1.9.3/dist/leaflet.js&quot;&gt;&lt;/script&gt;\n    &lt;script src=&quot;https://code.jquery.com/jquery-3.7.1.min.js&quot;&gt;&lt;/script&gt;\n    &lt;script src=&quot;https://cdn.jsdelivr.net/npm/bootstrap@5.2.2/dist/js/bootstrap.bundle.min.js&quot;&gt;&lt;/script&gt;\n    &lt;script src=&quot;https://cdnjs.cloudflare.com/ajax/libs/Leaflet.awesome-markers/2.0.2/leaflet.awesome-markers.js&quot;&gt;&lt;/script&gt;\n    &lt;link rel=&quot;stylesheet&quot; href=&quot;https://cdn.jsdelivr.net/npm/leaflet@1.9.3/dist/leaflet.css&quot;/&gt;\n    &lt;link rel=&quot;stylesheet&quot; href=&quot;https://cdn.jsdelivr.net/npm/bootstrap@5.2.2/dist/css/bootstrap.min.css&quot;/&gt;\n    &lt;link rel=&quot;stylesheet&quot; href=&quot;https://netdna.bootstrapcdn.com/bootstrap/3.0.0/css/bootstrap.min.css&quot;/&gt;\n    &lt;link rel=&quot;stylesheet&quot; href=&quot;https://cdn.jsdelivr.net/npm/@fortawesome/fontawesome-free@6.2.0/css/all.min.css&quot;/&gt;\n    &lt;link rel=&quot;stylesheet&quot; href=&quot;https://cdnjs.cloudflare.com/ajax/libs/Leaflet.awesome-markers/2.0.2/leaflet.awesome-markers.css&quot;/&gt;\n    &lt;link rel=&quot;stylesheet&quot; href=&quot;https://cdn.jsdelivr.net/gh/python-visualization/folium/folium/templates/leaflet.awesome.rotate.min.css&quot;/&gt;\n    \n            &lt;meta name=&quot;viewport&quot; content=&quot;width=device-width,\n                initial-scale=1.0, maximum-scale=1.0, user-scalable=no&quot; /&gt;\n            &lt;style&gt;\n                #map_323d5da7e3498276c0c9f4228be66962 {\n                    position: relative;\n                    width: 100.0%;\n                    height: 100.0%;\n                    left: 0.0%;\n                    top: 0.0%;\n                }\n                .leaflet-container { font-size: 1rem; }\n            &lt;/style&gt;\n        \n&lt;/head&gt;\n&lt;body&gt;\n    \n    \n            &lt;div class=&quot;folium-map&quot; id=&quot;map_323d5da7e3498276c0c9f4228be66962&quot; &gt;&lt;/div&gt;\n        \n&lt;/body&gt;\n&lt;script&gt;\n    \n    \n            var map_323d5da7e3498276c0c9f4228be66962 = L.map(\n                &quot;map_323d5da7e3498276c0c9f4228be66962&quot;,\n                {\n                    center: [28.562302, -80.577356],\n                    crs: L.CRS.EPSG3857,\n                    zoom: 10,\n                    zoomControl: true,\n                    preferCanvas: false,\n                }\n            );\n\n            \n\n        \n    \n            var tile_layer_a115183398e30bb5d22d99853c878c95 = L.tileLayer(\n                &quot;https://tile.openstreetmap.org/{z}/{x}/{y}.png&quot;,\n                {&quot;attribution&quot;: &quot;\\u0026copy; \\u003ca href=\\&quot;https://www.openstreetmap.org/copyright\\&quot;\\u003eOpenStreetMap\\u003c/a\\u003e contributors&quot;, &quot;detectRetina&quot;: false, &quot;maxNativeZoom&quot;: 19, &quot;maxZoom&quot;: 19, &quot;minZoom&quot;: 0, &quot;noWrap&quot;: false, &quot;opacity&quot;: 1, &quot;subdomains&quot;: &quot;abc&quot;, &quot;tms&quot;: false}\n            );\n        \n    \n            tile_layer_a115183398e30bb5d22d99853c878c95.addTo(map_323d5da7e3498276c0c9f4228be66962);\n        \n    \n            var marker_e3d4ba5d995009df1fc93ab1849ed8e6 = L.marker(\n                [28.55075, -80.48035],\n                {}\n            ).addTo(map_323d5da7e3498276c0c9f4228be66962);\n        \n    \n            var div_icon_395c7d6fb2347d1c7cfaa5adea35e9b8 = L.divIcon({&quot;className&quot;: &quot;empty&quot;, &quot;html&quot;: &quot;\\u003cdiv style=\\&quot;font-size: 12; color:#d35400;\\&quot;\\u003e\\u003cb\\u003e9.56 KM\\u003c/b\\u003e\\u003c/div\\u003e&quot;, &quot;iconAnchor&quot;: [0, 0], &quot;iconSize&quot;: [20, 20]});\n            marker_e3d4ba5d995009df1fc93ab1849ed8e6.setIcon(div_icon_395c7d6fb2347d1c7cfaa5adea35e9b8);\n        \n&lt;/script&gt;\n&lt;/html&gt;\" style=\"position:absolute;width:100%;height:100%;left:0;top:0;border:none !important;\" allowfullscreen webkitallowfullscreen mozallowfullscreen></iframe></div></div>"
          },
          "metadata": {}
        }
      ],
      "execution_count": 57
    },
    {
      "cell_type": "markdown",
      "source": "*TODO:* Draw a `PolyLine` between a launch site to the selected coastline point\n",
      "metadata": {}
    },
    {
      "cell_type": "code",
      "source": "# Create a `folium.PolyLine` object using the coastline coordinates and launch site coordinate\n# lines=folium.PolyLine(locations=coordinates, weight=1)\n\nimport folium\nfrom folium import plugins\n\n# Example coordinates\nlaunch_site_coordinates = [28.562302, -80.577356]\ncoastline_coordinates = [28.55075, -80.48035]\n\n# Create a folium.PolyLine object\npolyline = folium.PolyLine(\n    locations=[launch_site_coordinates, coastline_coordinates],\n    weight=1,\n)\n\n# Create a folium.Map centered around the launch site\nsite_map = folium.Map(location=launch_site_coordinates, zoom_start=20)\n\n# Add the PolyLine to the map\npolyline.add_to(site_map)\n\n# Display the map\nsite_map\n\nsite_map.add_child(polyline)",
      "metadata": {
        "trusted": true
      },
      "outputs": [
        {
          "execution_count": 59,
          "output_type": "execute_result",
          "data": {
            "text/plain": "<folium.folium.Map at 0x5c3d860>",
            "text/html": "<div style=\"width:100%;\"><div style=\"position:relative;width:100%;height:0;padding-bottom:60%;\"><span style=\"color:#565656\">Make this Notebook Trusted to load map: File -> Trust Notebook</span><iframe srcdoc=\"&lt;!DOCTYPE html&gt;\n&lt;html&gt;\n&lt;head&gt;\n    \n    &lt;meta http-equiv=&quot;content-type&quot; content=&quot;text/html; charset=UTF-8&quot; /&gt;\n    \n        &lt;script&gt;\n            L_NO_TOUCH = false;\n            L_DISABLE_3D = false;\n        &lt;/script&gt;\n    \n    &lt;style&gt;html, body {width: 100%;height: 100%;margin: 0;padding: 0;}&lt;/style&gt;\n    &lt;style&gt;#map {position:absolute;top:0;bottom:0;right:0;left:0;}&lt;/style&gt;\n    &lt;script src=&quot;https://cdn.jsdelivr.net/npm/leaflet@1.9.3/dist/leaflet.js&quot;&gt;&lt;/script&gt;\n    &lt;script src=&quot;https://code.jquery.com/jquery-3.7.1.min.js&quot;&gt;&lt;/script&gt;\n    &lt;script src=&quot;https://cdn.jsdelivr.net/npm/bootstrap@5.2.2/dist/js/bootstrap.bundle.min.js&quot;&gt;&lt;/script&gt;\n    &lt;script src=&quot;https://cdnjs.cloudflare.com/ajax/libs/Leaflet.awesome-markers/2.0.2/leaflet.awesome-markers.js&quot;&gt;&lt;/script&gt;\n    &lt;link rel=&quot;stylesheet&quot; href=&quot;https://cdn.jsdelivr.net/npm/leaflet@1.9.3/dist/leaflet.css&quot;/&gt;\n    &lt;link rel=&quot;stylesheet&quot; href=&quot;https://cdn.jsdelivr.net/npm/bootstrap@5.2.2/dist/css/bootstrap.min.css&quot;/&gt;\n    &lt;link rel=&quot;stylesheet&quot; href=&quot;https://netdna.bootstrapcdn.com/bootstrap/3.0.0/css/bootstrap.min.css&quot;/&gt;\n    &lt;link rel=&quot;stylesheet&quot; href=&quot;https://cdn.jsdelivr.net/npm/@fortawesome/fontawesome-free@6.2.0/css/all.min.css&quot;/&gt;\n    &lt;link rel=&quot;stylesheet&quot; href=&quot;https://cdnjs.cloudflare.com/ajax/libs/Leaflet.awesome-markers/2.0.2/leaflet.awesome-markers.css&quot;/&gt;\n    &lt;link rel=&quot;stylesheet&quot; href=&quot;https://cdn.jsdelivr.net/gh/python-visualization/folium/folium/templates/leaflet.awesome.rotate.min.css&quot;/&gt;\n    \n            &lt;meta name=&quot;viewport&quot; content=&quot;width=device-width,\n                initial-scale=1.0, maximum-scale=1.0, user-scalable=no&quot; /&gt;\n            &lt;style&gt;\n                #map_1765de4dbfa3a7100513fce80bb89c43 {\n                    position: relative;\n                    width: 100.0%;\n                    height: 100.0%;\n                    left: 0.0%;\n                    top: 0.0%;\n                }\n                .leaflet-container { font-size: 1rem; }\n            &lt;/style&gt;\n        \n&lt;/head&gt;\n&lt;body&gt;\n    \n    \n            &lt;div class=&quot;folium-map&quot; id=&quot;map_1765de4dbfa3a7100513fce80bb89c43&quot; &gt;&lt;/div&gt;\n        \n&lt;/body&gt;\n&lt;script&gt;\n    \n    \n            var map_1765de4dbfa3a7100513fce80bb89c43 = L.map(\n                &quot;map_1765de4dbfa3a7100513fce80bb89c43&quot;,\n                {\n                    center: [28.562302, -80.577356],\n                    crs: L.CRS.EPSG3857,\n                    zoom: 20,\n                    zoomControl: true,\n                    preferCanvas: false,\n                }\n            );\n\n            \n\n        \n    \n            var tile_layer_c3b4a119f80a6081c5555d538e58e1f8 = L.tileLayer(\n                &quot;https://tile.openstreetmap.org/{z}/{x}/{y}.png&quot;,\n                {&quot;attribution&quot;: &quot;\\u0026copy; \\u003ca href=\\&quot;https://www.openstreetmap.org/copyright\\&quot;\\u003eOpenStreetMap\\u003c/a\\u003e contributors&quot;, &quot;detectRetina&quot;: false, &quot;maxNativeZoom&quot;: 19, &quot;maxZoom&quot;: 19, &quot;minZoom&quot;: 0, &quot;noWrap&quot;: false, &quot;opacity&quot;: 1, &quot;subdomains&quot;: &quot;abc&quot;, &quot;tms&quot;: false}\n            );\n        \n    \n            tile_layer_c3b4a119f80a6081c5555d538e58e1f8.addTo(map_1765de4dbfa3a7100513fce80bb89c43);\n        \n    \n            var poly_line_7c889fcd10acc53081aa1d47d4b30552 = L.polyline(\n                [[28.562302, -80.577356], [28.55075, -80.48035]],\n                {&quot;bubblingMouseEvents&quot;: true, &quot;color&quot;: &quot;#3388ff&quot;, &quot;dashArray&quot;: null, &quot;dashOffset&quot;: null, &quot;fill&quot;: false, &quot;fillColor&quot;: &quot;#3388ff&quot;, &quot;fillOpacity&quot;: 0.2, &quot;fillRule&quot;: &quot;evenodd&quot;, &quot;lineCap&quot;: &quot;round&quot;, &quot;lineJoin&quot;: &quot;round&quot;, &quot;noClip&quot;: false, &quot;opacity&quot;: 1.0, &quot;smoothFactor&quot;: 1.0, &quot;stroke&quot;: true, &quot;weight&quot;: 1}\n            ).addTo(map_1765de4dbfa3a7100513fce80bb89c43);\n        \n&lt;/script&gt;\n&lt;/html&gt;\" style=\"position:absolute;width:100%;height:100%;left:0;top:0;border:none !important;\" allowfullscreen webkitallowfullscreen mozallowfullscreen></iframe></div></div>"
          },
          "metadata": {}
        }
      ],
      "execution_count": 59
    },
    {
      "cell_type": "markdown",
      "source": "Your updated map with distance line should look like the following screenshot:\n",
      "metadata": {}
    },
    {
      "cell_type": "markdown",
      "source": "<center>\n    <img src=\"https://cf-courses-data.s3.us.cloud-object-storage.appdomain.cloud/IBM-DS0321EN-SkillsNetwork/labs/module_3/images/launch_site_marker_distance.png\">\n</center>\n",
      "metadata": {}
    },
    {
      "cell_type": "markdown",
      "source": "*TODO:* Similarly, you can draw a line betwee a launch site to its closest city, railway, highway, etc. You need to use `MousePosition` to find the their coordinates on the map first\n",
      "metadata": {}
    },
    {
      "cell_type": "markdown",
      "source": "A railway map symbol may look like this:\n",
      "metadata": {}
    },
    {
      "cell_type": "markdown",
      "source": "<center>\n    <img src=\"https://cf-courses-data.s3.us.cloud-object-storage.appdomain.cloud/IBM-DS0321EN-SkillsNetwork/labs/module_3/images/railway.png\">\n</center>\n",
      "metadata": {}
    },
    {
      "cell_type": "markdown",
      "source": "A highway map symbol may look like this:\n",
      "metadata": {}
    },
    {
      "cell_type": "markdown",
      "source": "<center>\n    <img src=\"https://cf-courses-data.s3.us.cloud-object-storage.appdomain.cloud/IBM-DS0321EN-SkillsNetwork/labs/module_3/images/highway.png\">\n</center>\n",
      "metadata": {}
    },
    {
      "cell_type": "markdown",
      "source": "A city map symbol may look like this:\n",
      "metadata": {}
    },
    {
      "cell_type": "markdown",
      "source": "<center>\n    <img src=\"https://cf-courses-data.s3.us.cloud-object-storage.appdomain.cloud/IBM-DS0321EN-SkillsNetwork/labs/module_3/images/city.png\">\n</center>\n",
      "metadata": {}
    },
    {
      "cell_type": "code",
      "source": "# Create a marker with distance to a closest city, railway, highway, etc.\n# Draw a line between the marker to the launch site\n",
      "metadata": {
        "trusted": true
      },
      "outputs": [],
      "execution_count": 42
    },
    {
      "cell_type": "code",
      "source": "",
      "metadata": {
        "trusted": true
      },
      "outputs": [],
      "execution_count": null
    },
    {
      "cell_type": "code",
      "source": "",
      "metadata": {
        "trusted": true
      },
      "outputs": [],
      "execution_count": null
    },
    {
      "cell_type": "markdown",
      "source": "After you plot distance lines to the proximities, you can answer the following questions easily:\n\n*   Are launch sites in close proximity to railways?\n*   Are launch sites in close proximity to highways?\n*   Are launch sites in close proximity to coastline?\n*   Do launch sites keep certain distance away from cities?\n\nAlso please try to explain your findings.\n",
      "metadata": {}
    },
    {
      "cell_type": "markdown",
      "source": "# Next Steps:\n\nNow you have discovered many interesting insights related to the launch sites' location using folium, in a very interactive way. Next, you will need to build a dashboard using Ploty Dash on detailed launch records.\n",
      "metadata": {}
    },
    {
      "cell_type": "markdown",
      "source": "## Authors\n",
      "metadata": {}
    },
    {
      "cell_type": "markdown",
      "source": "[Pratiksha Verma](https://www.linkedin.com/in/pratiksha-verma-6487561b1/?utm_medium=Exinfluencer&utm_source=Exinfluencer&utm_content=000026UJ&utm_term=10006555&utm_id=NA-SkillsNetwork-Channel-SkillsNetworkCoursesIBMDS0321ENSkillsNetwork865-2022-01-01)\n",
      "metadata": {}
    },
    {
      "cell_type": "markdown",
      "source": "## Change Log\n",
      "metadata": {}
    },
    {
      "cell_type": "markdown",
      "source": "| Date (YYYY-MM-DD) | Version | Changed By      | Change Description      |\n| ----------------- | ------- | -------------   | ----------------------- |\n| 2022-11-09        | 1.0     | Pratiksha Verma | Converted initial version to Jupyterlite|\n",
      "metadata": {}
    },
    {
      "cell_type": "markdown",
      "source": "### <h3 align=\"center\"> IBM Corporation 2022. All rights reserved. <h3/>\n",
      "metadata": {}
    }
  ]
}